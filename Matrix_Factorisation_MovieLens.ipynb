{
 "cells": [
  {
   "cell_type": "code",
   "execution_count": 1,
   "id": "20612b2d",
   "metadata": {},
   "outputs": [],
   "source": [
    "import numpy as np\n",
    "import pandas as pd\n",
    "from datetime import datetime\n",
    "import seaborn as sns\n",
    "import matplotlib.pyplot as plt\n",
    "from sklearn.decomposition import NMF\n",
    "\n",
    "plt.style.use('ggplot')\n",
    "from sklearn.model_selection import train_test_split\n",
    "ratings = pd.read_csv(\"C:/Users/User/Downloads/u.data\", sep='\\t', header=None)\n",
    "ratings.columns = ['userid','movieId','rating','timestamp']\n",
    "train_df, valid_df = train_test_split(ratings, test_size=0.2)\n",
    "\n",
    "train_df = train_df.reset_index(drop=True)\n",
    "test_df = valid_df.reset_index(drop=True)"
   ]
  },
  {
   "cell_type": "code",
   "execution_count": 2,
   "id": "5bbfa770",
   "metadata": {
    "scrolled": true
   },
   "outputs": [],
   "source": [
    "column_names = [\n",
    "    \"movieId\", \"title\", \"ReleaseDate\", \"VideoReleaseDate\", \"IMDbURL\",\n",
    "    \"Unknown\", \"Action\", \"Adventure\", \"Animation\", \"Children's\", \"Comedy\",\n",
    "    \"Crime\", \"Documentary\", \"Drama\", \"Fantasy\", \"Film-Noir\", \"Horror\",\n",
    "    \"Musical\", \"Mystery\", \"Romance\", \"Sci-Fi\", \"Thriller\", \"War\", \"Western\"\n",
    "]\n",
    "movies_df = pd.read_csv(\"C:/Users/User/Downloads/u.item\", sep='|', names = column_names, header=None, encoding='latin-1')"
   ]
  },
  {
   "cell_type": "code",
   "execution_count": 3,
   "id": "351cf19b",
   "metadata": {},
   "outputs": [
    {
     "name": "stderr",
     "output_type": "stream",
     "text": [
      "C:\\Users\\User\\anaconda3\\lib\\site-packages\\sklearn\\decomposition\\_nmf.py:1665: ConvergenceWarning: Maximum number of iterations 200 reached. Increase it to improve convergence.\n",
      "  warnings.warn(\n"
     ]
    }
   ],
   "source": [
    "user_item_matrix = train_df.pivot_table(index='userid', columns='movieId', values='rating')\n",
    "user_item_matrix = user_item_matrix.fillna(0)\n",
    "\n",
    "model = NMF(n_components=10)\n",
    "W = model.fit_transform(user_item_matrix)\n",
    "H = model.components_"
   ]
  },
  {
   "cell_type": "code",
   "execution_count": 4,
   "id": "39631147",
   "metadata": {
    "scrolled": false
   },
   "outputs": [
    {
     "name": "stdout",
     "output_type": "stream",
     "text": [
      "User 5 has already rated 175 movies.\n",
      "Top 5 recommended movies:\n",
      "I.Q. (1994)\n",
      "Private Benjamin (1980)\n",
      "Empire Strikes Back, The (1980)\n",
      "Apocalypse Now (1979)\n",
      "Sleepless in Seattle (1993)\n",
      "Breaking the Waves (1996)\n",
      "Movie title not found for movie_id 0\n",
      "Princess Bride, The (1987)\n",
      "Delicatessen (1991)\n",
      "Star Trek VI: The Undiscovered Country (1991)\n"
     ]
    }
   ],
   "source": [
    "user_id = 5\n",
    "user_row_number = user_id - 1\n",
    "user_predicted_ratings = np.dot(W[user_row_number], H)\n",
    "sorted_user_predictions = np.argsort(user_predicted_ratings)[::-1]\n",
    "\n",
    "# movies_df = pd.read_csv(\"C:/Users/User/Downloads/movies.csv\")\n",
    "user_data = ratings[ratings.userid == user_id]\n",
    "user_full = (user_data.merge(movies_df, how='left', left_on='movieId', right_on='movieId')\n",
    "             .sort_values(['rating'], ascending=False))\n",
    "print('User {0} has already rated {1} movies.'.format(user_id, user_full.shape[0]))\n",
    "print('Top 5 recommended movies:')\n",
    "for movie_id in sorted_user_predictions[:10]:\n",
    "    try:\n",
    "        title = movies_df[movies_df.movieId == movie_id].title.values[0]\n",
    "        print(title)\n",
    "    except IndexError:\n",
    "        print(f\"Movie title not found for movie_id {movie_id}\")\n"
   ]
  },
  {
   "cell_type": "code",
   "execution_count": 5,
   "id": "a7ea6238",
   "metadata": {},
   "outputs": [
    {
     "data": {
      "text/plain": [
       "array(['Star Trek VI: The Undiscovered Country (1991)'], dtype=object)"
      ]
     },
     "execution_count": 5,
     "metadata": {},
     "output_type": "execute_result"
    }
   ],
   "source": [
    "movies_df[movies_df.movieId == movie_id].title.values"
   ]
  },
  {
   "cell_type": "markdown",
   "id": "9e7d38a1",
   "metadata": {},
   "source": [
    "## Hyperparameter tuning 1: n_components"
   ]
  },
  {
   "cell_type": "code",
   "execution_count": 6,
   "id": "e591290f",
   "metadata": {},
   "outputs": [
    {
     "name": "stderr",
     "output_type": "stream",
     "text": [
      "C:\\Users\\User\\anaconda3\\lib\\site-packages\\sklearn\\decomposition\\_nmf.py:1665: ConvergenceWarning: Maximum number of iterations 200 reached. Increase it to improve convergence.\n",
      "  warnings.warn(\n",
      "C:\\Users\\User\\anaconda3\\lib\\site-packages\\sklearn\\decomposition\\_nmf.py:1665: ConvergenceWarning: Maximum number of iterations 200 reached. Increase it to improve convergence.\n",
      "  warnings.warn(\n",
      "C:\\Users\\User\\anaconda3\\lib\\site-packages\\sklearn\\decomposition\\_nmf.py:1665: ConvergenceWarning: Maximum number of iterations 200 reached. Increase it to improve convergence.\n",
      "  warnings.warn(\n",
      "C:\\Users\\User\\anaconda3\\lib\\site-packages\\sklearn\\decomposition\\_nmf.py:1665: ConvergenceWarning: Maximum number of iterations 200 reached. Increase it to improve convergence.\n",
      "  warnings.warn(\n"
     ]
    }
   ],
   "source": [
    "from sklearn.metrics import mean_squared_error\n",
    "n_components_values = [5, 10, 15, 20, 25]\n",
    "best_n_components = None\n",
    "best_mse = float('inf')\n",
    "\n",
    "for n_components in n_components_values:\n",
    "    model = NMF(n_components=n_components)\n",
    "    W = model.fit_transform(user_item_matrix)\n",
    "    H = model.components_\n",
    "    \n",
    "    user_row_number = user_id - 1\n",
    "    user_predicted_ratings = np.dot(W[user_row_number], H)\n",
    "    \n",
    "    # Calculate Mean Squared Error between real ratings and predicted ratings\n",
    "    mse = mean_squared_error(user_item_matrix.iloc[user_row_number], user_predicted_ratings)\n",
    "    \n",
    "    if mse < best_mse:\n",
    "        best_mse = mse\n",
    "        best_n_components = n_components\n"
   ]
  },
  {
   "cell_type": "code",
   "execution_count": 7,
   "id": "360b2d2e",
   "metadata": {},
   "outputs": [
    {
     "name": "stdout",
     "output_type": "stream",
     "text": [
      "User 5 has already rated 175 movies.\n",
      "Top 5 recommended movies:\n",
      "Monty Python and the Holy Grail (1974)\n",
      "Private Benjamin (1980)\n",
      "Empire Strikes Back, The (1980)\n",
      "Sleepless in Seattle (1993)\n",
      "Movie title not found for movie_id 0\n",
      "Shanghai Triad (Yao a yao yao dao waipo qiao) (1995)\n",
      "I.Q. (1994)\n",
      "Raiders of the Lost Ark (1981)\n",
      "Brazil (1985)\n",
      "Spy Hard (1996)\n"
     ]
    },
    {
     "name": "stderr",
     "output_type": "stream",
     "text": [
      "C:\\Users\\User\\anaconda3\\lib\\site-packages\\sklearn\\decomposition\\_nmf.py:1665: ConvergenceWarning: Maximum number of iterations 200 reached. Increase it to improve convergence.\n",
      "  warnings.warn(\n"
     ]
    }
   ],
   "source": [
    "best_model = NMF(n_components=best_n_components, random_state = 32)\n",
    "W = best_model.fit_transform(user_item_matrix)\n",
    "H = best_model.components_\n",
    "\n",
    "user_id = 5\n",
    "user_row_number = user_id - 1\n",
    "user_predicted_ratings = np.dot(W[user_row_number], H)\n",
    "sorted_user_predictions = np.argsort(user_predicted_ratings)[::-1]\n",
    "\n",
    "user_data = ratings[ratings.userid == user_id]\n",
    "user_full = (user_data.merge(movies_df, how='left', left_on='movieId', right_on='movieId')\n",
    "             .sort_values(['rating'], ascending=False))\n",
    "print('User {0} has already rated {1} movies.'.format(user_id, user_full.shape[0]))\n",
    "print('Top 5 recommended movies:')\n",
    "for movie_id in sorted_user_predictions[:10]:\n",
    "    try:\n",
    "        title = movies_df[movies_df.movieId == movie_id].title.values[0]\n",
    "        print(title)\n",
    "    except IndexError:\n",
    "        print(f\"Movie title not found for movie_id {movie_id}\")\n"
   ]
  },
  {
   "cell_type": "markdown",
   "id": "0cd079e0",
   "metadata": {},
   "source": [
    "## Hyperparameter tuning 2: beta loss and solver"
   ]
  },
  {
   "cell_type": "code",
   "execution_count": 8,
   "id": "a903a372",
   "metadata": {},
   "outputs": [
    {
     "name": "stderr",
     "output_type": "stream",
     "text": [
      "C:\\Users\\User\\anaconda3\\lib\\site-packages\\sklearn\\decomposition\\_nmf.py:1665: ConvergenceWarning: Maximum number of iterations 200 reached. Increase it to improve convergence.\n",
      "  warnings.warn(\n"
     ]
    },
    {
     "name": "stdout",
     "output_type": "stream",
     "text": [
      "beta loss:  frobenius\n",
      "Solver:  ['cd', 'mu']\n",
      "mse:  0.46318584214427894 \n",
      "\n",
      "beta loss:  frobenius\n",
      "Solver:  ['cd', 'mu']\n",
      "mse:  0.45232067979690865 \n",
      "\n",
      "beta loss:  kullback-leibler\n",
      "Solver:  ['cd', 'mu']\n",
      "mse:  0.45327713222174476 \n",
      "\n",
      "Best beta loss value: frobenius\n",
      "Best solver: mu\n"
     ]
    }
   ],
   "source": [
    "beta_loss_values = ['frobenius', 'kullback-leibler']\n",
    "solvers = ['cd', 'mu']\n",
    "\n",
    "best_beta_loss = None\n",
    "best_solver = None\n",
    "best_mse = float('inf')\n",
    "\n",
    "for beta_loss in beta_loss_values:\n",
    "    for solver in solvers:\n",
    "        if solver == 'cd' and beta_loss == 'kullback-leibler':\n",
    "            continue  # Skip invalid combination\n",
    "\n",
    "        model = NMF(n_components=best_n_components, beta_loss=beta_loss, solver=solver, random_state = 32)\n",
    "        W = model.fit_transform(user_item_matrix)\n",
    "        H = model.components_\n",
    "\n",
    "        user_row_number = user_id - 1\n",
    "        user_predicted_ratings = np.dot(W[user_row_number], H)\n",
    "\n",
    "        mse = mean_squared_error(user_item_matrix.iloc[user_row_number], user_predicted_ratings)\n",
    "        print(\"beta loss: \", beta_loss)\n",
    "        print(\"Solver: \", solvers)\n",
    "        print(\"mse: \", mse, \"\\n\")\n",
    "        if mse < best_mse:\n",
    "            best_mse = mse\n",
    "            best_beta_loss = beta_loss\n",
    "            best_solver = solver\n",
    "\n",
    "print(f\"Best beta loss value: {best_beta_loss}\")\n",
    "print(f\"Best solver: {best_solver}\")\n"
   ]
  },
  {
   "cell_type": "code",
   "execution_count": 9,
   "id": "3b28016a",
   "metadata": {},
   "outputs": [
    {
     "name": "stdout",
     "output_type": "stream",
     "text": [
      "User 5 has already rated 175 movies.\n",
      "Top 5 recommended movies:\n",
      "Private Benjamin (1980)\n",
      "Sleepless in Seattle (1993)\n",
      "I.Q. (1994)\n",
      "Breaking the Waves (1996)\n",
      "Empire Strikes Back, The (1980)\n",
      "Movie title not found for movie_id 0\n",
      "Star Trek VI: The Undiscovered Country (1991)\n",
      "Brazil (1985)\n",
      "Sleeper (1973)\n",
      "Monty Python and the Holy Grail (1974)\n"
     ]
    }
   ],
   "source": [
    "best_model = NMF(n_components=best_n_components, beta_loss=best_beta_loss, solver=best_solver, random_state = 32)\n",
    "W = best_model.fit_transform(user_item_matrix)\n",
    "H = best_model.components_\n",
    "\n",
    "user_id = 5\n",
    "user_row_number = user_id - 1\n",
    "user_predicted_ratings = np.dot(W[user_row_number], H)\n",
    "sorted_user_predictions = np.argsort(user_predicted_ratings)[::-1]\n",
    "\n",
    "user_data = ratings[ratings.userid == user_id]\n",
    "user_full = (user_data.merge(movies_df, how='left', left_on='movieId', right_on='movieId')\n",
    "             .sort_values(['rating'], ascending=False))\n",
    "print('User {0} has already rated {1} movies.'.format(user_id, user_full.shape[0]))\n",
    "print('Top 5 recommended movies:')\n",
    "for movie_id in sorted_user_predictions[:10]:\n",
    "    try:\n",
    "        title = movies_df[movies_df.movieId == movie_id].title.values[0]\n",
    "        print(title)\n",
    "    except IndexError:\n",
    "        print(f\"Movie title not found for movie_id {movie_id}\")\n"
   ]
  },
  {
   "cell_type": "markdown",
   "id": "e1d8eb27",
   "metadata": {},
   "source": [
    "## Hyperparameter tuning 3: initialisation"
   ]
  },
  {
   "cell_type": "code",
   "execution_count": 10,
   "id": "2659ae6d",
   "metadata": {},
   "outputs": [
    {
     "name": "stderr",
     "output_type": "stream",
     "text": [
      "C:\\Users\\User\\anaconda3\\lib\\site-packages\\sklearn\\decomposition\\_nmf.py:1524: UserWarning: The multiplicative update ('mu') solver cannot update zeros present in the initialization, and so leads to poorer results when used jointly with init='nndsvd'. You may try init='nndsvda' or init='nndsvdar' instead.\n",
      "  warnings.warn(\n"
     ]
    },
    {
     "name": "stdout",
     "output_type": "stream",
     "text": [
      "init method:  nndsvd\n",
      "mse:  0.4575481717950192 \n",
      "\n",
      "init method:  nndsvda\n",
      "mse:  0.45327713222174476 \n",
      "\n"
     ]
    },
    {
     "name": "stderr",
     "output_type": "stream",
     "text": [
      "C:\\Users\\User\\anaconda3\\lib\\site-packages\\sklearn\\decomposition\\_nmf.py:1665: ConvergenceWarning: Maximum number of iterations 200 reached. Increase it to improve convergence.\n",
      "  warnings.warn(\n"
     ]
    },
    {
     "name": "stdout",
     "output_type": "stream",
     "text": [
      "init method:  nndsvdar\n",
      "mse:  0.47513822752902546 \n",
      "\n",
      "init method:  random\n",
      "mse:  0.48959390650236945 \n",
      "\n",
      "Best initialization method: nndsvda\n"
     ]
    }
   ],
   "source": [
    "init_methods = ['nndsvd', 'nndsvda', 'nndsvdar', 'random']\n",
    "best_init = None\n",
    "best_mse = float('inf')\n",
    "\n",
    "for init in init_methods:\n",
    "    model = NMF(n_components=best_n_components, beta_loss=best_beta_loss, solver=best_solver, random_state = 32, init=init)\n",
    "    W = model.fit_transform(user_item_matrix)\n",
    "    H = model.components_\n",
    "\n",
    "    user_row_number = user_id - 1\n",
    "    user_predicted_ratings = np.dot(W[user_row_number], H)\n",
    "\n",
    "    mse = mean_squared_error(user_item_matrix.iloc[user_row_number], user_predicted_ratings)\n",
    "\n",
    "    print(\"init method: \", init)\n",
    "    print(\"mse: \", mse, \"\\n\")\n",
    "    if mse < best_mse:\n",
    "        best_mse = mse\n",
    "        best_beta_loss = beta_loss\n",
    "        best_solver = solver\n",
    "        best_init = init\n",
    "\n",
    "print(f\"Best initialization method: {best_init}\")"
   ]
  },
  {
   "cell_type": "code",
   "execution_count": 11,
   "id": "d29a6e31",
   "metadata": {},
   "outputs": [
    {
     "name": "stdout",
     "output_type": "stream",
     "text": [
      "User 5 has already rated 175 movies.\n",
      "Top 5 recommended movies:\n",
      "Monty Python and the Holy Grail (1974)\n",
      "Star Trek VI: The Undiscovered Country (1991)\n",
      "I.Q. (1994)\n",
      "Breaking the Waves (1996)\n",
      "Private Benjamin (1980)\n",
      "Swingers (1996)\n",
      "Empire Strikes Back, The (1980)\n",
      "Movie title not found for movie_id 0\n",
      "So I Married an Axe Murderer (1993)\n",
      "Sleepless in Seattle (1993)\n"
     ]
    }
   ],
   "source": [
    "best_model = NMF(n_components=best_n_components, beta_loss=best_beta_loss, solver=best_solver, init = best_init, random_state = 32)\n",
    "W = best_model.fit_transform(user_item_matrix)\n",
    "H = best_model.components_\n",
    "\n",
    "user_id = 5\n",
    "user_row_number = user_id - 1\n",
    "user_predicted_ratings = np.dot(W[user_row_number], H)\n",
    "sorted_user_predictions = np.argsort(user_predicted_ratings)[::-1]\n",
    "\n",
    "user_data = ratings[ratings.userid == user_id]\n",
    "user_full = (user_data.merge(movies_df, how='left', left_on='movieId', right_on='movieId')\n",
    "             .sort_values(['rating'], ascending=False))\n",
    "print('User {0} has already rated {1} movies.'.format(user_id, user_full.shape[0]))\n",
    "print('Top 5 recommended movies:')\n",
    "for movie_id in sorted_user_predictions[:10]:\n",
    "    try:\n",
    "        title = movies_df[movies_df.movieId == movie_id].title.values[0]\n",
    "        print(title)\n",
    "    except IndexError:\n",
    "        print(f\"Movie title not found for movie_id {movie_id}\")\n"
   ]
  },
  {
   "cell_type": "code",
   "execution_count": 12,
   "id": "a493558f",
   "metadata": {},
   "outputs": [
    {
     "data": {
      "text/html": [
       "<div>\n",
       "<style scoped>\n",
       "    .dataframe tbody tr th:only-of-type {\n",
       "        vertical-align: middle;\n",
       "    }\n",
       "\n",
       "    .dataframe tbody tr th {\n",
       "        vertical-align: top;\n",
       "    }\n",
       "\n",
       "    .dataframe thead th {\n",
       "        text-align: right;\n",
       "    }\n",
       "</style>\n",
       "<table border=\"1\" class=\"dataframe\">\n",
       "  <thead>\n",
       "    <tr style=\"text-align: right;\">\n",
       "      <th></th>\n",
       "      <th>movieId</th>\n",
       "      <th>rating count</th>\n",
       "    </tr>\n",
       "  </thead>\n",
       "  <tbody>\n",
       "  </tbody>\n",
       "</table>\n",
       "</div>"
      ],
      "text/plain": [
       "Empty DataFrame\n",
       "Columns: [movieId, rating count]\n",
       "Index: []"
      ]
     },
     "execution_count": 12,
     "metadata": {},
     "output_type": "execute_result"
    }
   ],
   "source": [
    "temp = ratings[ratings['userid'] == 5]\n",
    "groupby = temp.groupby('movieId')['rating'].count().reset_index()\n",
    "groupby = groupby.rename(columns = {'rating': 'rating count'})\n",
    "groupby[groupby['rating count'] > 1]"
   ]
  },
  {
   "cell_type": "markdown",
   "id": "1b09d34a",
   "metadata": {},
   "source": [
    "No repeated ratings from each user for each movie."
   ]
  },
  {
   "cell_type": "code",
   "execution_count": 13,
   "id": "0a2f4b77",
   "metadata": {},
   "outputs": [
    {
     "data": {
      "text/plain": [
       "array([168, 227,  49, 221, 167, 150, 172,   0,  90,  88], dtype=int64)"
      ]
     },
     "execution_count": 13,
     "metadata": {},
     "output_type": "execute_result"
    }
   ],
   "source": [
    "sorted_user_predictions[:10]"
   ]
  },
  {
   "cell_type": "code",
   "execution_count": null,
   "id": "f657a6e4",
   "metadata": {},
   "outputs": [],
   "source": []
  }
 ],
 "metadata": {
  "kernelspec": {
   "display_name": "Python 3 (ipykernel)",
   "language": "python",
   "name": "python3"
  },
  "language_info": {
   "codemirror_mode": {
    "name": "ipython",
    "version": 3
   },
   "file_extension": ".py",
   "mimetype": "text/x-python",
   "name": "python",
   "nbconvert_exporter": "python",
   "pygments_lexer": "ipython3",
   "version": "3.10.9"
  }
 },
 "nbformat": 4,
 "nbformat_minor": 5
}
