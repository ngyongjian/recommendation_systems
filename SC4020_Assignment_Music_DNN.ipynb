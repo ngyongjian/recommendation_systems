{
 "cells": [
  {
   "cell_type": "raw",
   "metadata": {
    "colab": {
     "base_uri": "https://localhost:8080/"
    },
    "id": "q8aHZNPaBaZD",
    "outputId": "13a993ed-4241-4f87-9887-2510745517bf"
   },
   "source": [
    "# from google.colab import drive\n",
    "drive.mount('/content/gdrive')"
   ]
  },
  {
   "cell_type": "code",
   "execution_count": 1,
   "metadata": {
    "id": "2fLo6d6QCO37"
   },
   "outputs": [],
   "source": [
    "import torch\n",
    "import torch.nn as nn\n",
    "import torch.nn.functional as F\n",
    "import pandas as pd\n",
    "from sklearn.model_selection import train_test_split\n",
    "import matplotlib.pyplot as plt\n",
    "import numpy as np\n",
    "from sklearn.preprocessing import MinMaxScaler\n",
    "import plotly.express as px"
   ]
  },
  {
   "cell_type": "code",
   "execution_count": 2,
   "metadata": {
    "id": "H0SninOXCRUy"
   },
   "outputs": [],
   "source": [
    "genre = pd.read_csv(\"C:/Users/User/Downloads/genre_train_trimmed.csv\", dtype='float16')"
   ]
  },
  {
   "cell_type": "code",
   "execution_count": 3,
   "metadata": {
    "id": "3nJ_lE1-jxmd"
   },
   "outputs": [],
   "source": [
    "genre.fillna(0, inplace=True)\n",
    "genre = genre.astype('int8')"
   ]
  },
  {
   "cell_type": "code",
   "execution_count": 4,
   "metadata": {
    "id": "PUCDBh2_CpdU"
   },
   "outputs": [],
   "source": [
    "others= pd.read_csv(\"C:/Users/User/Downloads/others_train_trimmed.csv\")"
   ]
  },
  {
   "cell_type": "code",
   "execution_count": 5,
   "metadata": {
    "colab": {
     "base_uri": "https://localhost:8080/"
    },
    "id": "HVX6jzFrRYMp",
    "outputId": "91a9f869-7467-46db-fefd-2322c1e4a105"
   },
   "outputs": [
    {
     "name": "stdout",
     "output_type": "stream",
     "text": [
      "<class 'pandas.core.frame.DataFrame'>\n",
      "RangeIndex: 1475484 entries, 0 to 1475483\n",
      "Data columns (total 11 columns):\n",
      " #   Column              Non-Null Count    Dtype  \n",
      "---  ------              --------------    -----  \n",
      " 0   msno                1475484 non-null  object \n",
      " 1   song_id             1475484 non-null  object \n",
      " 2   source_system_tab   1470482 non-null  object \n",
      " 3   source_screen_name  1392479 non-null  object \n",
      " 4   source_type         1471165 non-null  object \n",
      " 5   target              1475484 non-null  int64  \n",
      " 6   song_length         1475464 non-null  float64\n",
      " 7   artist_name         1475464 non-null  object \n",
      " 8   composer            1141030 non-null  object \n",
      " 9   lyricist            840135 non-null   object \n",
      " 10  language            1475456 non-null  float64\n",
      "dtypes: float64(2), int64(1), object(8)\n",
      "memory usage: 123.8+ MB\n"
     ]
    }
   ],
   "source": [
    "others.info()"
   ]
  },
  {
   "cell_type": "code",
   "execution_count": 6,
   "metadata": {
    "id": "1wvu22QZO-yX"
   },
   "outputs": [],
   "source": [
    "s = others['artist_name']\n",
    "labels, levels_artist = pd.factorize(s)\n",
    "others['artist_name'] = pd.Series(labels)\n",
    "\n",
    "s = others['song_id']\n",
    "labels, levels_songs = pd.factorize(s)\n",
    "others['song_id'] = pd.Series(labels)\n",
    "\n",
    "s = others['msno']\n",
    "labels, levels_msno = pd.factorize(s)\n",
    "others['msno'] = pd.Series(labels)\n",
    "\n",
    "del s"
   ]
  },
  {
   "cell_type": "code",
   "execution_count": 7,
   "metadata": {
    "id": "0cmkeVNQQJKy"
   },
   "outputs": [],
   "source": [
    "others['language'].fillna(0, inplace=True)"
   ]
  },
  {
   "cell_type": "code",
   "execution_count": 8,
   "metadata": {
    "id": "7DVkb6tmjffQ"
   },
   "outputs": [],
   "source": [
    "others['msno'] = others['msno'].astype('int32')\n",
    "others['song_id'] = others['song_id'].astype('int32')\n",
    "others['target'] = others['target'].astype('int8')\n",
    "others['artist_name'] = others['artist_name'].astype('int32')\n",
    "others['language'] = others['language'].astype('int16')\n",
    "others.drop(columns=['song_length', 'composer','lyricist'], inplace=True)"
   ]
  },
  {
   "cell_type": "code",
   "execution_count": 9,
   "metadata": {
    "id": "r0GEyAS1vi3V"
   },
   "outputs": [],
   "source": [
    "data = pd.concat([others, genre], axis=1)"
   ]
  },
  {
   "cell_type": "code",
   "execution_count": 10,
   "metadata": {
    "id": "ZwxprInHrITG"
   },
   "outputs": [],
   "source": [
    "data_train, data_test = train_test_split(data, test_size=0.2, shuffle=False)"
   ]
  },
  {
   "cell_type": "code",
   "execution_count": 11,
   "metadata": {
    "colab": {
     "base_uri": "https://localhost:8080/"
    },
    "id": "YL5Vq5bBn3fU",
    "outputId": "5c0af2c7-bcba-4ce9-8437-9cc4323c2e09"
   },
   "outputs": [
    {
     "name": "stdout",
     "output_type": "stream",
     "text": [
      "1180387 1180387\n"
     ]
    },
    {
     "data": {
      "text/html": [
       "<div>\n",
       "<style scoped>\n",
       "    .dataframe tbody tr th:only-of-type {\n",
       "        vertical-align: middle;\n",
       "    }\n",
       "\n",
       "    .dataframe tbody tr th {\n",
       "        vertical-align: top;\n",
       "    }\n",
       "\n",
       "    .dataframe thead th {\n",
       "        text-align: right;\n",
       "    }\n",
       "</style>\n",
       "<table border=\"1\" class=\"dataframe\">\n",
       "  <thead>\n",
       "    <tr style=\"text-align: right;\">\n",
       "      <th></th>\n",
       "      <th>msno</th>\n",
       "      <th>song_id</th>\n",
       "      <th>source_system_tab</th>\n",
       "      <th>source_screen_name</th>\n",
       "      <th>source_type</th>\n",
       "      <th>target</th>\n",
       "      <th>artist_name</th>\n",
       "      <th>language</th>\n",
       "      <th>genres_0</th>\n",
       "      <th>genres_87</th>\n",
       "      <th>...</th>\n",
       "      <th>genres_2191</th>\n",
       "      <th>genres_2192</th>\n",
       "      <th>genres_2194</th>\n",
       "      <th>genres_2206</th>\n",
       "      <th>genres_2213</th>\n",
       "      <th>genres_2215</th>\n",
       "      <th>genres_2219</th>\n",
       "      <th>genres_2238</th>\n",
       "      <th>genres_2245</th>\n",
       "      <th>genres_2248</th>\n",
       "    </tr>\n",
       "  </thead>\n",
       "  <tbody>\n",
       "    <tr>\n",
       "      <th>0</th>\n",
       "      <td>0</td>\n",
       "      <td>0</td>\n",
       "      <td>my library</td>\n",
       "      <td>Local playlist more</td>\n",
       "      <td>local-library</td>\n",
       "      <td>1</td>\n",
       "      <td>0</td>\n",
       "      <td>-1</td>\n",
       "      <td>0</td>\n",
       "      <td>0</td>\n",
       "      <td>...</td>\n",
       "      <td>0</td>\n",
       "      <td>0</td>\n",
       "      <td>0</td>\n",
       "      <td>0</td>\n",
       "      <td>0</td>\n",
       "      <td>0</td>\n",
       "      <td>0</td>\n",
       "      <td>0</td>\n",
       "      <td>0</td>\n",
       "      <td>0</td>\n",
       "    </tr>\n",
       "    <tr>\n",
       "      <th>1</th>\n",
       "      <td>1</td>\n",
       "      <td>1</td>\n",
       "      <td>my library</td>\n",
       "      <td>Local playlist more</td>\n",
       "      <td>local-library</td>\n",
       "      <td>0</td>\n",
       "      <td>1</td>\n",
       "      <td>52</td>\n",
       "      <td>0</td>\n",
       "      <td>0</td>\n",
       "      <td>...</td>\n",
       "      <td>0</td>\n",
       "      <td>0</td>\n",
       "      <td>0</td>\n",
       "      <td>0</td>\n",
       "      <td>0</td>\n",
       "      <td>0</td>\n",
       "      <td>0</td>\n",
       "      <td>0</td>\n",
       "      <td>0</td>\n",
       "      <td>0</td>\n",
       "    </tr>\n",
       "    <tr>\n",
       "      <th>2</th>\n",
       "      <td>2</td>\n",
       "      <td>2</td>\n",
       "      <td>my library</td>\n",
       "      <td>Local playlist more</td>\n",
       "      <td>local-playlist</td>\n",
       "      <td>1</td>\n",
       "      <td>2</td>\n",
       "      <td>3</td>\n",
       "      <td>0</td>\n",
       "      <td>0</td>\n",
       "      <td>...</td>\n",
       "      <td>0</td>\n",
       "      <td>0</td>\n",
       "      <td>0</td>\n",
       "      <td>0</td>\n",
       "      <td>0</td>\n",
       "      <td>0</td>\n",
       "      <td>0</td>\n",
       "      <td>0</td>\n",
       "      <td>0</td>\n",
       "      <td>0</td>\n",
       "    </tr>\n",
       "    <tr>\n",
       "      <th>3</th>\n",
       "      <td>3</td>\n",
       "      <td>3</td>\n",
       "      <td>my library</td>\n",
       "      <td>Local playlist more</td>\n",
       "      <td>local-playlist</td>\n",
       "      <td>1</td>\n",
       "      <td>3</td>\n",
       "      <td>31</td>\n",
       "      <td>0</td>\n",
       "      <td>0</td>\n",
       "      <td>...</td>\n",
       "      <td>0</td>\n",
       "      <td>0</td>\n",
       "      <td>0</td>\n",
       "      <td>0</td>\n",
       "      <td>0</td>\n",
       "      <td>0</td>\n",
       "      <td>0</td>\n",
       "      <td>0</td>\n",
       "      <td>0</td>\n",
       "      <td>0</td>\n",
       "    </tr>\n",
       "    <tr>\n",
       "      <th>4</th>\n",
       "      <td>4</td>\n",
       "      <td>4</td>\n",
       "      <td>my library</td>\n",
       "      <td>Local playlist more</td>\n",
       "      <td>local-library</td>\n",
       "      <td>1</td>\n",
       "      <td>4</td>\n",
       "      <td>31</td>\n",
       "      <td>0</td>\n",
       "      <td>0</td>\n",
       "      <td>...</td>\n",
       "      <td>0</td>\n",
       "      <td>0</td>\n",
       "      <td>0</td>\n",
       "      <td>0</td>\n",
       "      <td>0</td>\n",
       "      <td>0</td>\n",
       "      <td>0</td>\n",
       "      <td>0</td>\n",
       "      <td>0</td>\n",
       "      <td>0</td>\n",
       "    </tr>\n",
       "  </tbody>\n",
       "</table>\n",
       "<p>5 rows × 200 columns</p>\n",
       "</div>"
      ],
      "text/plain": [
       "   msno  song_id source_system_tab   source_screen_name     source_type  \\\n",
       "0     0        0        my library  Local playlist more   local-library   \n",
       "1     1        1        my library  Local playlist more   local-library   \n",
       "2     2        2        my library  Local playlist more  local-playlist   \n",
       "3     3        3        my library  Local playlist more  local-playlist   \n",
       "4     4        4        my library  Local playlist more   local-library   \n",
       "\n",
       "   target  artist_name  language  genres_0  genres_87  ...  genres_2191  \\\n",
       "0       1            0        -1         0          0  ...            0   \n",
       "1       0            1        52         0          0  ...            0   \n",
       "2       1            2         3         0          0  ...            0   \n",
       "3       1            3        31         0          0  ...            0   \n",
       "4       1            4        31         0          0  ...            0   \n",
       "\n",
       "   genres_2192  genres_2194  genres_2206  genres_2213  genres_2215  \\\n",
       "0            0            0            0            0            0   \n",
       "1            0            0            0            0            0   \n",
       "2            0            0            0            0            0   \n",
       "3            0            0            0            0            0   \n",
       "4            0            0            0            0            0   \n",
       "\n",
       "   genres_2219  genres_2238  genres_2245  genres_2248  \n",
       "0            0            0            0            0  \n",
       "1            0            0            0            0  \n",
       "2            0            0            0            0  \n",
       "3            0            0            0            0  \n",
       "4            0            0            0            0  \n",
       "\n",
       "[5 rows x 200 columns]"
      ]
     },
     "execution_count": 11,
     "metadata": {},
     "output_type": "execute_result"
    }
   ],
   "source": [
    "num_users = len(data_train.msno)\n",
    "num_songs = len(data_train.song_id)\n",
    "print(num_users, num_songs)\n",
    "data_train.head()"
   ]
  },
  {
   "cell_type": "code",
   "execution_count": 12,
   "metadata": {},
   "outputs": [],
   "source": [
    "# Filter the DataFrame to keep only rows with genre information\n",
    "\n",
    "data_train = data_train[data_train.iloc[:, 8:].sum(axis = 1) != 0]"
   ]
  },
  {
   "cell_type": "code",
   "execution_count": 13,
   "metadata": {
    "id": "_ZPxYkDpm0Cp"
   },
   "outputs": [],
   "source": [
    "class NeuralNet(nn.Module):\n",
    "    def __init__(self, num_users, num_songs, emb_size=100, n_hidden=100):\n",
    "        super(NeuralNet, self).__init__()\n",
    "        self.user_emb = nn.Embedding(num_users, emb_size)\n",
    "        self.song_emb = nn.Embedding(num_songs, emb_size)\n",
    "        self.layer1 = nn.Linear(emb_size*2 + n_hidden+n_hidden - 6, n_hidden)\n",
    "        self.layer2 = nn.Linear(n_hidden, 1)\n",
    "        self.drop1 = nn.Dropout(0.1)\n",
    "\n",
    "    def forward(self, u, v, w, y):\n",
    "        user = self.user_emb(u)\n",
    "        song = self.song_emb(v)\n",
    "        x = F.relu(torch.cat([user, song, w, y], dim=1))\n",
    "        x = self.drop1(x)\n",
    "        x = F.relu(self.layer1(x))\n",
    "        x = self.layer2(x)\n",
    "        return x"
   ]
  },
  {
   "cell_type": "code",
   "execution_count": 14,
   "metadata": {
    "id": "G5csg5nynruu"
   },
   "outputs": [],
   "source": [
    "def train_epocs_hybrid(model, epochs=10, lr=0.01, wd=0.0, unsqueeze=False):\n",
    "    optimizer = torch.optim.Adam(model.parameters(), lr=lr, weight_decay=wd)\n",
    "    model.train()\n",
    "    for i in range(epochs):\n",
    "        users = torch.LongTensor(data_train.msno.values) # .cuda()\n",
    "        songs = torch.LongTensor(data_train.song_id.values) #.cuda()\n",
    "        genres = torch.LongTensor(data_train.iloc[:,8:].values) #.cuda()\n",
    "        others = torch.LongTensor(data_train[['language', 'artist_name']].values)\n",
    "        targets = torch.FloatTensor(data_train.target.values) #.cuda()\n",
    "        if unsqueeze:\n",
    "            targets = targets.unsqueeze(1)\n",
    "        y_hat = model(users, songs, genres, others)\n",
    "        loss = F.binary_cross_entropy_with_logits(y_hat, targets)\n",
    "        train_loss.append((i, loss.item()))\n",
    "        if (i+1) % 10 == 0:\n",
    "          print(\"Iteration: %d ; error = %.4f\" % (i+1, loss.item()))\n",
    "        optimizer.zero_grad()\n",
    "        loss.backward()\n",
    "        optimizer.step()\n",
    "    test_loss_hybrid(model, unsqueeze)"
   ]
  },
  {
   "cell_type": "code",
   "execution_count": 15,
   "metadata": {
    "id": "4MmnNnmRnsN-"
   },
   "outputs": [],
   "source": [
    "def test_loss_hybrid(model, unsqueeze=False):\n",
    "    model.eval()\n",
    "    users = torch.LongTensor(data_train.msno.values) # .cuda()\n",
    "    songs = torch.LongTensor(data_train.song_id.values) #.cuda()\n",
    "    genres = torch.LongTensor(data_train.iloc[:,8:].values) #.cuda()\n",
    "    others = torch.LongTensor(data_train[['language', 'artist_name']].values)\n",
    "    targets = torch.FloatTensor(data_train.target.values) #.cuda()\n",
    "    if unsqueeze:\n",
    "        targets = targets.unsqueeze(1)\n",
    "    y_hat = model(users, songs, genres, others)\n",
    "    loss = F.mse_loss(y_hat, targets)\n",
    "    print(\"test loss %.3f \" % loss.item())"
   ]
  },
  {
   "cell_type": "code",
   "execution_count": 16,
   "metadata": {
    "id": "KhNWekSO5Tti"
   },
   "outputs": [],
   "source": [
    "def plot_loss(train_loss, embedding_size):\n",
    "    x = [x for x, y in train_loss]\n",
    "    y = [y for x, y in train_loss]\n",
    "    plt.figure(figsize=((4,4)))\n",
    "    plt.plot(x, y)\n",
    "    plt.xticks(x, x)\n",
    "    plt.title(\"k = {}\".format(str(embedding_size)))\n",
    "    plt.xlabel(\"epochs\")\n",
    "    plt.ylabel(\"RMSE\")\n",
    "    plt.grid(axis=\"y\")"
   ]
  },
  {
   "cell_type": "code",
   "execution_count": 17,
   "metadata": {
    "colab": {
     "base_uri": "https://localhost:8080/"
    },
    "id": "KUs9ueUlnvi4",
    "outputId": "f1b9c082-ed01-474f-d6dc-42aa053f480e"
   },
   "outputs": [
    {
     "data": {
      "text/plain": [
       "NeuralNet(\n",
       "  (user_emb): Embedding(1180387, 20)\n",
       "  (song_emb): Embedding(1180387, 20)\n",
       "  (layer1): Linear(in_features=234, out_features=100, bias=True)\n",
       "  (layer2): Linear(in_features=100, out_features=1, bias=True)\n",
       "  (drop1): Dropout(p=0.1, inplace=False)\n",
       ")"
      ]
     },
     "execution_count": 17,
     "metadata": {},
     "output_type": "execute_result"
    }
   ],
   "source": [
    "model_hybrid_20 = NeuralNet(num_users, num_songs, emb_size=20)\n",
    "model_hybrid_20"
   ]
  },
  {
   "cell_type": "code",
   "execution_count": 18,
   "metadata": {
    "colab": {
     "base_uri": "https://localhost:8080/"
    },
    "id": "QMAa0g3lnzbj",
    "outputId": "4beb3314-e926-42f7-fa66-4b7be8a018b7"
   },
   "outputs": [
    {
     "name": "stdout",
     "output_type": "stream",
     "text": [
      "Iteration: 10 ; error = 6.7021\n",
      "Iteration: 20 ; error = 3.9274\n",
      "test loss 401.420 \n"
     ]
    }
   ],
   "source": [
    "train_loss = []\n",
    "train_epocs_hybrid(model_hybrid_20, epochs=20, lr=0.01, wd=1e-6, unsqueeze=True)"
   ]
  },
  {
   "cell_type": "code",
   "execution_count": 19,
   "metadata": {
    "colab": {
     "base_uri": "https://localhost:8080/",
     "height": 410
    },
    "id": "q32HOOFsInzd",
    "outputId": "1f951b29-b105-41d8-d32f-5870b98e39f6"
   },
   "outputs": [
    {
     "data": {
      "image/png": "[encoded data removed]",
      "text/plain": [
       "<Figure size 288x288 with 1 Axes>"
      ]
     },
     "metadata": {
      "needs_background": "light"
     },
     "output_type": "display_data"
    }
   ],
   "source": [
    "plot_loss(train_loss, 20)"
   ]
  },
  {
   "cell_type": "code",
   "execution_count": 20,
   "metadata": {
    "colab": {
     "base_uri": "https://localhost:8080/"
    },
    "id": "_q-hbPwEdfpD",
    "outputId": "cb23a1e4-b639-4793-fd9a-7f354290a347"
   },
   "outputs": [
    {
     "data": {
      "text/plain": [
       "NeuralNet(\n",
       "  (user_emb): Embedding(1180387, 30)\n",
       "  (song_emb): Embedding(1180387, 30)\n",
       "  (layer1): Linear(in_features=254, out_features=100, bias=True)\n",
       "  (layer2): Linear(in_features=100, out_features=1, bias=True)\n",
       "  (drop1): Dropout(p=0.1, inplace=False)\n",
       ")"
      ]
     },
     "execution_count": 20,
     "metadata": {},
     "output_type": "execute_result"
    }
   ],
   "source": [
    "model_hybrid_30 = NeuralNet(num_users, num_songs, emb_size=30)\n",
    "model_hybrid_30"
   ]
  },
  {
   "cell_type": "code",
   "execution_count": 21,
   "metadata": {
    "colab": {
     "base_uri": "https://localhost:8080/"
    },
    "id": "hapn8cdj4WNq",
    "outputId": "7fd33a13-1410-463b-e8d0-c3d7a306c8d4"
   },
   "outputs": [
    {
     "name": "stdout",
     "output_type": "stream",
     "text": [
      "Iteration: 10 ; error = 3.3517\n",
      "Iteration: 20 ; error = 1.1449\n",
      "test loss 127.429 \n"
     ]
    }
   ],
   "source": [
    "train_loss = []\n",
    "train_epocs_hybrid(model_hybrid_30, epochs=20, lr=0.01, wd=1e-6, unsqueeze=True)"
   ]
  },
  {
   "cell_type": "code",
   "execution_count": 22,
   "metadata": {
    "colab": {
     "base_uri": "https://localhost:8080/",
     "height": 410
    },
    "id": "EiJcOOcxdkXT",
    "outputId": "17d62069-1089-43fb-8cd2-0a259cb6ed12"
   },
   "outputs": [
    {
     "data": {
      "image/png": "[encoded data removed]",
      "text/plain": [
       "<Figure size 288x288 with 1 Axes>"
      ]
     },
     "metadata": {
      "needs_background": "light"
     },
     "output_type": "display_data"
    }
   ],
   "source": [
    "plot_loss(train_loss, 30)"
   ]
  },
  {
   "cell_type": "code",
   "execution_count": 23,
   "metadata": {
    "colab": {
     "base_uri": "https://localhost:8080/"
    },
    "id": "SYLXnfhbeQFF",
    "outputId": "782338ee-7ad1-4be5-97d1-855e75e62bff"
   },
   "outputs": [
    {
     "data": {
      "text/plain": [
       "NeuralNet(\n",
       "  (user_emb): Embedding(1180387, 40)\n",
       "  (song_emb): Embedding(1180387, 40)\n",
       "  (layer1): Linear(in_features=274, out_features=100, bias=True)\n",
       "  (layer2): Linear(in_features=100, out_features=1, bias=True)\n",
       "  (drop1): Dropout(p=0.1, inplace=False)\n",
       ")"
      ]
     },
     "execution_count": 23,
     "metadata": {},
     "output_type": "execute_result"
    }
   ],
   "source": [
    "model_hybrid_40 = NeuralNet(num_users, num_songs, emb_size=40)\n",
    "model_hybrid_40"
   ]
  },
  {
   "cell_type": "code",
   "execution_count": 24,
   "metadata": {
    "colab": {
     "base_uri": "https://localhost:8080/"
    },
    "id": "x-udr2M2eUJr",
    "outputId": "b91077e6-6c4d-4d06-a885-f9b5148f1369"
   },
   "outputs": [
    {
     "name": "stdout",
     "output_type": "stream",
     "text": [
      "Iteration: 10 ; error = 3.7426\n",
      "Iteration: 20 ; error = 2.5133\n",
      "test loss 7.683 \n"
     ]
    }
   ],
   "source": [
    "train_loss = []\n",
    "train_epocs_hybrid(model_hybrid_40, epochs=20, lr=0.01, wd=1e-6, unsqueeze=True)"
   ]
  },
  {
   "cell_type": "code",
   "execution_count": 25,
   "metadata": {
    "colab": {
     "base_uri": "https://localhost:8080/",
     "height": 410
    },
    "id": "NR5t_N-6eVmF",
    "outputId": "7924344d-b5a6-43d9-b37d-1af6425072ed"
   },
   "outputs": [
    {
     "data": {
      "image/png": "[encoded data removed]",
      "text/plain": [
       "<Figure size 288x288 with 1 Axes>"
      ]
     },
     "metadata": {
      "needs_background": "light"
     },
     "output_type": "display_data"
    }
   ],
   "source": [
    "plot_loss(train_loss, 40)"
   ]
  },
  {
   "cell_type": "code",
   "execution_count": 26,
   "metadata": {
    "colab": {
     "base_uri": "https://localhost:8080/"
    },
    "id": "qOOK6ASseZTw",
    "outputId": "f75af891-e275-47d9-aa66-e356feee0180"
   },
   "outputs": [
    {
     "data": {
      "text/plain": [
       "NeuralNet(\n",
       "  (user_emb): Embedding(1180387, 50)\n",
       "  (song_emb): Embedding(1180387, 50)\n",
       "  (layer1): Linear(in_features=294, out_features=100, bias=True)\n",
       "  (layer2): Linear(in_features=100, out_features=1, bias=True)\n",
       "  (drop1): Dropout(p=0.1, inplace=False)\n",
       ")"
      ]
     },
     "execution_count": 26,
     "metadata": {},
     "output_type": "execute_result"
    }
   ],
   "source": [
    "model_hybrid_50 = NeuralNet(num_users, num_songs, emb_size=50)\n",
    "model_hybrid_50"
   ]
  },
  {
   "cell_type": "code",
   "execution_count": 27,
   "metadata": {
    "colab": {
     "base_uri": "https://localhost:8080/"
    },
    "id": "J0j6-UbEecvs",
    "outputId": "56bd44b9-29d1-4b84-9cd8-8ed189b21c70"
   },
   "outputs": [
    {
     "name": "stdout",
     "output_type": "stream",
     "text": [
      "Iteration: 10 ; error = 2.9792\n",
      "Iteration: 20 ; error = 2.0306\n",
      "test loss 119.837 \n"
     ]
    }
   ],
   "source": [
    "train_loss = []\n",
    "train_epocs_hybrid(model_hybrid_50, epochs=20, lr=0.01, wd=1e-6, unsqueeze=True)"
   ]
  },
  {
   "cell_type": "code",
   "execution_count": 28,
   "metadata": {
    "colab": {
     "base_uri": "https://localhost:8080/",
     "height": 410
    },
    "id": "KsEXhFEledYx",
    "outputId": "1ecec224-8360-462a-c838-16b752201d47"
   },
   "outputs": [
    {
     "data": {
      "image/png": "[encoded data removed]",
      "text/plain": [
       "<Figure size 288x288 with 1 Axes>"
      ]
     },
     "metadata": {
      "needs_background": "light"
     },
     "output_type": "display_data"
    }
   ],
   "source": [
    "plot_loss(train_loss, 50)"
   ]
  },
  {
   "cell_type": "code",
   "execution_count": 29,
   "metadata": {
    "id": "qCb_VJ-heq5o"
   },
   "outputs": [],
   "source": [
    "npRecommend_10 = data_train[data_train.msno == 5].to_numpy()\n",
    "user = torch.LongTensor(npRecommend_10[:,0].astype(np.int32))\n",
    "song = torch.LongTensor(npRecommend_10[:,1].astype(np.int32))\n",
    "genre = torch.LongTensor(npRecommend_10[:,8:].astype(np.int8))\n",
    "others = torch.LongTensor(npRecommend_10[:,6:8].astype(np.int32))\n",
    "npRecommend_val = model_hybrid_50(user, song, genre, others).detach().numpy().reshape(-1)"
   ]
  },
  {
   "cell_type": "code",
   "execution_count": 30,
   "metadata": {
    "colab": {
     "base_uri": "https://localhost:8080/"
    },
    "id": "Wk6LEsZyesZu",
    "outputId": "9d99f875-97ef-435f-bdbd-fbb424991d2b"
   },
   "outputs": [
    {
     "data": {
      "text/plain": [
       "array([ 50,  55,  20,  49,  65, 101,   5,  27,  14,  70], dtype=int64)"
      ]
     },
     "execution_count": 30,
     "metadata": {},
     "output_type": "execute_result"
    }
   ],
   "source": [
    "indecies =  np.argsort(npRecommend_val)[-10:][::-1]\n",
    "indecies"
   ]
  },
  {
   "cell_type": "code",
   "execution_count": 31,
   "metadata": {
    "colab": {
     "base_uri": "https://localhost:8080/"
    },
    "id": "ZI6vFcxhetvS",
    "outputId": "0a1ee64c-c169-496b-8876-36a6b51259e4"
   },
   "outputs": [
    {
     "name": "stdout",
     "output_type": "stream",
     "text": [
      "[2506 132 27 224 1260 22 3386 15037 10711 4855]\n"
     ]
    }
   ],
   "source": [
    "recommded_itemid_10_hybrid = npRecommend_10[indecies,1]  # taking top 10\n",
    "print(recommded_itemid_10_hybrid)"
   ]
  },
  {
   "cell_type": "code",
   "execution_count": 32,
   "metadata": {
    "colab": {
     "base_uri": "https://localhost:8080/"
    },
    "id": "EtwG9Eg-evd7",
    "outputId": "f63745a0-66f1-4c07-c0d0-f8812bba4bd5"
   },
   "outputs": [
    {
     "name": "stdout",
     "output_type": "stream",
     "text": [
      "['bYShoI0CynM+KsGcPL6+5DdwZSyL+X0Fk074Nac7kC0=', 'cy10N2j2sdY/X4BDUcMu2Iumfz7pV3tqE5iEaup2yGI=', 'W4lj0YvJuHhM/taFRqfNksN9CSKecmPWnbvQ9x9+3tA=', 'WL4ipO3Mx9pxd4FMs69ha6o9541+fLeOow67Qkrfnro=', 'U9kojfZSKaiWOW94PKh1Riyv/zUWxmBRmv0XInQWLGw=', 'euRuXf+FKUosn295WoeqQbQJ4MQ7es1jJAQlmqZFA/I=', 'u4Q31WoUXsQHIRRr1mbgUxXyauv1wfaCzPte/fFqmdo=', 'MtJrZ8W4uW5YIxX4g8obUy4cjvDUlmbgnyx+/028NNM=', 'Sp468OMqjn+BriKPzhktI1ITx5GAEmQ6p3TYy3w8hiU=', 'fUGs+CNuo9R1M6NQbuyGVFMJmTf0TSFHjYDrBglyuVI=']\n"
     ]
    }
   ],
   "source": [
    "recommendedSongs_10_hybrid = []\n",
    "for i in recommded_itemid_10_hybrid:\n",
    "    recommendedSongs_10_hybrid.append(levels_songs[i])\n",
    "print(recommendedSongs_10_hybrid)"
   ]
  },
  {
   "cell_type": "code",
   "execution_count": 34,
   "metadata": {
    "id": "IoYS2fgh4IXr"
   },
   "outputs": [],
   "source": [
    "songs = pd.read_csv(\"C:/Users/User/Downloads/song_extra_info.csv\")"
   ]
  },
  {
   "cell_type": "code",
   "execution_count": 35,
   "metadata": {
    "id": "PJpLWGXw_Eac"
   },
   "outputs": [],
   "source": [
    "recommended_songs = []\n",
    "for i in recommendedSongs_10_hybrid:\n",
    "    song = songs[songs['song_id'] == i]\n",
    "    recommended_songs.append(song.iloc[0]['name'])"
   ]
  },
  {
   "cell_type": "code",
   "execution_count": 36,
   "metadata": {
    "colab": {
     "base_uri": "https://localhost:8080/",
     "height": 363
    },
    "id": "XRM-B35B-hFD",
    "outputId": "93787788-4892-4d84-9cbc-0e88eed56580"
   },
   "outputs": [
    {
     "data": {
      "text/html": [
       "<div>\n",
       "<style scoped>\n",
       "    .dataframe tbody tr th:only-of-type {\n",
       "        vertical-align: middle;\n",
       "    }\n",
       "\n",
       "    .dataframe tbody tr th {\n",
       "        vertical-align: top;\n",
       "    }\n",
       "\n",
       "    .dataframe thead th {\n",
       "        text-align: right;\n",
       "    }\n",
       "</style>\n",
       "<table border=\"1\" class=\"dataframe\">\n",
       "  <thead>\n",
       "    <tr style=\"text-align: right;\">\n",
       "      <th></th>\n",
       "      <th>Recommended_Songs</th>\n",
       "    </tr>\n",
       "  </thead>\n",
       "  <tbody>\n",
       "    <tr>\n",
       "      <th>0</th>\n",
       "      <td>無條件</td>\n",
       "    </tr>\n",
       "    <tr>\n",
       "      <th>1</th>\n",
       "      <td>派對動物 (Party Animal)</td>\n",
       "    </tr>\n",
       "    <tr>\n",
       "      <th>2</th>\n",
       "      <td>心的距離(國)</td>\n",
       "    </tr>\n",
       "    <tr>\n",
       "      <th>3</th>\n",
       "      <td>夜空中最亮的星</td>\n",
       "    </tr>\n",
       "    <tr>\n",
       "      <th>4</th>\n",
       "      <td>不該</td>\n",
       "    </tr>\n",
       "    <tr>\n",
       "      <th>5</th>\n",
       "      <td>淘汰(國)</td>\n",
       "    </tr>\n",
       "    <tr>\n",
       "      <th>6</th>\n",
       "      <td>零度的親吻 (Frozen Kiss)</td>\n",
       "    </tr>\n",
       "    <tr>\n",
       "      <th>7</th>\n",
       "      <td>K 歌之王</td>\n",
       "    </tr>\n",
       "    <tr>\n",
       "      <th>8</th>\n",
       "      <td>為愛而活</td>\n",
       "    </tr>\n",
       "    <tr>\n",
       "      <th>9</th>\n",
       "      <td>十年</td>\n",
       "    </tr>\n",
       "  </tbody>\n",
       "</table>\n",
       "</div>"
      ],
      "text/plain": [
       "     Recommended_Songs\n",
       "0                  無條件\n",
       "1  派對動物 (Party Animal)\n",
       "2              心的距離(國)\n",
       "3              夜空中最亮的星\n",
       "4                   不該\n",
       "5                淘汰(國)\n",
       "6  零度的親吻 (Frozen Kiss)\n",
       "7                K 歌之王\n",
       "8                 為愛而活\n",
       "9                   十年"
      ]
     },
     "execution_count": 36,
     "metadata": {},
     "output_type": "execute_result"
    }
   ],
   "source": [
    "recommended_songs_df = pd.DataFrame(recommended_songs, columns=['Recommended_Songs'])\n",
    "recommended_songs_df"
   ]
  },
  {
   "cell_type": "code",
   "execution_count": null,
   "metadata": {
    "id": "XyE-rVkD-pS1"
   },
   "outputs": [],
   "source": []
  }
 ],
 "metadata": {
  "accelerator": "GPU",
  "colab": {
   "gpuType": "T4",
   "provenance": []
  },
  "kernelspec": {
   "display_name": "Python 3 (ipykernel)",
   "language": "python",
   "name": "python3"
  },
  "language_info": {
   "codemirror_mode": {
    "name": "ipython",
    "version": 3
   },
   "file_extension": ".py",
   "mimetype": "text/x-python",
   "name": "python",
   "nbconvert_exporter": "python",
   "pygments_lexer": "ipython3",
   "version": "3.10.9"
  }
 },
 "nbformat": 4,
 "nbformat_minor": 1
}
