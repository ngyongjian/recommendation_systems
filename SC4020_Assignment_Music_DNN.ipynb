{
  "nbformat": 4,
  "nbformat_minor": 0,
  "metadata": {
    "colab": {
      "provenance": [],
      "gpuType": "T4"
    },
    "kernelspec": {
      "name": "python3",
      "display_name": "Python 3"
    },
    "language_info": {
      "name": "python"
    },
    "accelerator": "GPU"
  },
  "cells": [
    {
      "cell_type": "code",
      "execution_count": 1,
      "metadata": {
        "colab": {
          "base_uri": "https://localhost:8080/"
        },
        "id": "q8aHZNPaBaZD",
        "outputId": "13a993ed-4241-4f87-9887-2510745517bf"
      },
      "outputs": [
        {
          "output_type": "stream",
          "name": "stdout",
          "text": [
            "Drive already mounted at /content/gdrive; to attempt to forcibly remount, call drive.mount(\"/content/gdrive\", force_remount=True).\n"
          ]
        }
      ],
      "source": [
        "from google.colab import drive\n",
        "drive.mount('/content/gdrive')"
      ]
    },
    {
      "cell_type": "code",
      "source": [
        "import torch\n",
        "import torch.nn as nn\n",
        "import torch.nn.functional as F\n",
        "import pandas as pd\n",
        "from sklearn.model_selection import train_test_split\n",
        "import matplotlib.pyplot as plt\n",
        "import numpy as np\n",
        "from sklearn.preprocessing import MinMaxScaler\n",
        "import plotly.express as px"
      ],
      "metadata": {
        "id": "2fLo6d6QCO37"
      },
      "execution_count": 2,
      "outputs": []
    },
    {
      "cell_type": "code",
      "source": [
        "genre = pd.read_csv(\"gdrive/MyDrive/genre_train_trimmed.csv\", dtype='float16')"
      ],
      "metadata": {
        "id": "H0SninOXCRUy"
      },
      "execution_count": 3,
      "outputs": []
    },
    {
      "cell_type": "code",
      "source": [
        "genre.fillna(0, inplace=True)"
      ],
      "metadata": {
        "id": "3nJ_lE1-jxmd"
      },
      "execution_count": 4,
      "outputs": []
    },
    {
      "cell_type": "code",
      "source": [
        "genre = genre.astype('int8')"
      ],
      "metadata": {
        "id": "p3HN8-d6kiHc"
      },
      "execution_count": 5,
      "outputs": []
    },
    {
      "cell_type": "code",
      "source": [
        "others= pd.read_csv(\"gdrive/MyDrive/others_train_trimmed.csv\")"
      ],
      "metadata": {
        "id": "PUCDBh2_CpdU"
      },
      "execution_count": 6,
      "outputs": []
    },
    {
      "cell_type": "code",
      "source": [
        "others.info()"
      ],
      "metadata": {
        "colab": {
          "base_uri": "https://localhost:8080/"
        },
        "id": "HVX6jzFrRYMp",
        "outputId": "91a9f869-7467-46db-fefd-2322c1e4a105"
      },
      "execution_count": 7,
      "outputs": [
        {
          "output_type": "stream",
          "name": "stdout",
          "text": [
            "<class 'pandas.core.frame.DataFrame'>\n",
            "RangeIndex: 1475484 entries, 0 to 1475483\n",
            "Data columns (total 11 columns):\n",
            " #   Column              Non-Null Count    Dtype  \n",
            "---  ------              --------------    -----  \n",
            " 0   msno                1475484 non-null  object \n",
            " 1   song_id             1475484 non-null  object \n",
            " 2   source_system_tab   1470482 non-null  object \n",
            " 3   source_screen_name  1392479 non-null  object \n",
            " 4   source_type         1471165 non-null  object \n",
            " 5   target              1475484 non-null  int64  \n",
            " 6   song_length         1475464 non-null  float64\n",
            " 7   artist_name         1475464 non-null  object \n",
            " 8   composer            1141030 non-null  object \n",
            " 9   lyricist            840135 non-null   object \n",
            " 10  language            1475456 non-null  float64\n",
            "dtypes: float64(2), int64(1), object(8)\n",
            "memory usage: 123.8+ MB\n"
          ]
        }
      ]
    },
    {
      "cell_type": "code",
      "source": [
        "s = others['artist_name']\n",
        "labels, levels_artist = pd.factorize(s)\n",
        "others['artist_name'] = pd.Series(labels)"
      ],
      "metadata": {
        "id": "1wvu22QZO-yX"
      },
      "execution_count": 8,
      "outputs": []
    },
    {
      "cell_type": "code",
      "source": [
        "s = others['song_id']\n",
        "labels, levels_songs = pd.factorize(s)\n",
        "others['song_id'] = pd.Series(labels)"
      ],
      "metadata": {
        "id": "NpUjnS1EPAlm"
      },
      "execution_count": 9,
      "outputs": []
    },
    {
      "cell_type": "code",
      "source": [
        "s = others['msno']\n",
        "labels, levels_msno = pd.factorize(s)\n",
        "others['msno'] = pd.Series(labels)"
      ],
      "metadata": {
        "id": "IA4hVC5UPDkl"
      },
      "execution_count": 10,
      "outputs": []
    },
    {
      "cell_type": "code",
      "source": [
        "del s"
      ],
      "metadata": {
        "id": "OK9ow_ZT9TxD"
      },
      "execution_count": 11,
      "outputs": []
    },
    {
      "cell_type": "code",
      "source": [
        "others['language'].fillna(0, inplace=True)"
      ],
      "metadata": {
        "id": "0cmkeVNQQJKy"
      },
      "execution_count": 12,
      "outputs": []
    },
    {
      "cell_type": "code",
      "source": [
        "others['msno'] = others['msno'].astype('int32')\n",
        "others['song_id'] = others['song_id'].astype('int32')\n",
        "others['target'] = others['target'].astype('int8')\n",
        "others['artist_name'] = others['artist_name'].astype('int32')\n",
        "others['language'] = others['language'].astype('int16')"
      ],
      "metadata": {
        "id": "7DVkb6tmjffQ"
      },
      "execution_count": 13,
      "outputs": []
    },
    {
      "cell_type": "code",
      "source": [
        "others.drop(columns=['song_length', 'composer','lyricist'], inplace=True)"
      ],
      "metadata": {
        "id": "llEnlfYPRa4h"
      },
      "execution_count": 14,
      "outputs": []
    },
    {
      "cell_type": "code",
      "source": [
        "others.info()"
      ],
      "metadata": {
        "colab": {
          "base_uri": "https://localhost:8080/"
        },
        "id": "w5sfoKzbl1GZ",
        "outputId": "0650a05a-315f-4a01-8c99-0dcc802753ca"
      },
      "execution_count": 15,
      "outputs": [
        {
          "output_type": "stream",
          "name": "stdout",
          "text": [
            "<class 'pandas.core.frame.DataFrame'>\n",
            "RangeIndex: 1475484 entries, 0 to 1475483\n",
            "Data columns (total 8 columns):\n",
            " #   Column              Non-Null Count    Dtype \n",
            "---  ------              --------------    ----- \n",
            " 0   msno                1475484 non-null  int32 \n",
            " 1   song_id             1475484 non-null  int32 \n",
            " 2   source_system_tab   1470482 non-null  object\n",
            " 3   source_screen_name  1392479 non-null  object\n",
            " 4   source_type         1471165 non-null  object\n",
            " 5   target              1475484 non-null  int8  \n",
            " 6   artist_name         1475484 non-null  int32 \n",
            " 7   language            1475484 non-null  int16 \n",
            "dtypes: int16(1), int32(3), int8(1), object(3)\n",
            "memory usage: 54.9+ MB\n"
          ]
        }
      ]
    },
    {
      "cell_type": "code",
      "source": [
        "data = pd.concat([others, genre], axis=1)"
      ],
      "metadata": {
        "id": "r0GEyAS1vi3V"
      },
      "execution_count": 16,
      "outputs": []
    },
    {
      "cell_type": "code",
      "source": [
        "data_train, data_test = train_test_split(data, test_size=0.2, shuffle=False)"
      ],
      "metadata": {
        "id": "ZwxprInHrITG"
      },
      "execution_count": 17,
      "outputs": []
    },
    {
      "cell_type": "code",
      "source": [
        "num_users = len(data_train.msno)\n",
        "num_songs = len(data_train.song_id)\n",
        "print(num_users, num_songs)"
      ],
      "metadata": {
        "colab": {
          "base_uri": "https://localhost:8080/"
        },
        "id": "YL5Vq5bBn3fU",
        "outputId": "5c0af2c7-bcba-4ce9-8437-9cc4323c2e09"
      },
      "execution_count": 18,
      "outputs": [
        {
          "output_type": "stream",
          "name": "stdout",
          "text": [
            "1180387 1180387\n"
          ]
        }
      ]
    },
    {
      "cell_type": "code",
      "source": [
        "data_train.head()"
      ],
      "metadata": {
        "colab": {
          "base_uri": "https://localhost:8080/",
          "height": 255
        },
        "id": "brS0O3eOKbkJ",
        "outputId": "88efd77d-2d20-408d-a79e-1b86a65dd290"
      },
      "execution_count": 19,
      "outputs": [
        {
          "output_type": "execute_result",
          "data": {
            "text/plain": [
              "   msno  song_id source_system_tab   source_screen_name     source_type  \\\n",
              "0     0        0        my library  Local playlist more   local-library   \n",
              "1     1        1        my library  Local playlist more   local-library   \n",
              "2     2        2        my library  Local playlist more  local-playlist   \n",
              "3     3        3        my library  Local playlist more  local-playlist   \n",
              "4     4        4        my library  Local playlist more   local-library   \n",
              "\n",
              "   target  artist_name  language  genres_0  genres_87  ...  genres_2191  \\\n",
              "0       1            0        -1         0          0  ...            0   \n",
              "1       0            1        52         0          0  ...            0   \n",
              "2       1            2         3         0          0  ...            0   \n",
              "3       1            3        31         0          0  ...            0   \n",
              "4       1            4        31         0          0  ...            0   \n",
              "\n",
              "   genres_2192  genres_2194  genres_2206  genres_2213  genres_2215  \\\n",
              "0            0            0            0            0            0   \n",
              "1            0            0            0            0            0   \n",
              "2            0            0            0            0            0   \n",
              "3            0            0            0            0            0   \n",
              "4            0            0            0            0            0   \n",
              "\n",
              "   genres_2219  genres_2238  genres_2245  genres_2248  \n",
              "0            0            0            0            0  \n",
              "1            0            0            0            0  \n",
              "2            0            0            0            0  \n",
              "3            0            0            0            0  \n",
              "4            0            0            0            0  \n",
              "\n",
              "[5 rows x 200 columns]"
            ],
            "text/html": [
              "\n",
              "  <div id=\"df-fdb418ca-2539-4a82-8ad7-aff015b743c6\" class=\"colab-df-container\">\n",
              "    <div>\n",
              "<style scoped>\n",
              "    .dataframe tbody tr th:only-of-type {\n",
              "        vertical-align: middle;\n",
              "    }\n",
              "\n",
              "    .dataframe tbody tr th {\n",
              "        vertical-align: top;\n",
              "    }\n",
              "\n",
              "    .dataframe thead th {\n",
              "        text-align: right;\n",
              "    }\n",
              "</style>\n",
              "<table border=\"1\" class=\"dataframe\">\n",
              "  <thead>\n",
              "    <tr style=\"text-align: right;\">\n",
              "      <th></th>\n",
              "      <th>msno</th>\n",
              "      <th>song_id</th>\n",
              "      <th>source_system_tab</th>\n",
              "      <th>source_screen_name</th>\n",
              "      <th>source_type</th>\n",
              "      <th>target</th>\n",
              "      <th>artist_name</th>\n",
              "      <th>language</th>\n",
              "      <th>genres_0</th>\n",
              "      <th>genres_87</th>\n",
              "      <th>...</th>\n",
              "      <th>genres_2191</th>\n",
              "      <th>genres_2192</th>\n",
              "      <th>genres_2194</th>\n",
              "      <th>genres_2206</th>\n",
              "      <th>genres_2213</th>\n",
              "      <th>genres_2215</th>\n",
              "      <th>genres_2219</th>\n",
              "      <th>genres_2238</th>\n",
              "      <th>genres_2245</th>\n",
              "      <th>genres_2248</th>\n",
              "    </tr>\n",
              "  </thead>\n",
              "  <tbody>\n",
              "    <tr>\n",
              "      <th>0</th>\n",
              "      <td>0</td>\n",
              "      <td>0</td>\n",
              "      <td>my library</td>\n",
              "      <td>Local playlist more</td>\n",
              "      <td>local-library</td>\n",
              "      <td>1</td>\n",
              "      <td>0</td>\n",
              "      <td>-1</td>\n",
              "      <td>0</td>\n",
              "      <td>0</td>\n",
              "      <td>...</td>\n",
              "      <td>0</td>\n",
              "      <td>0</td>\n",
              "      <td>0</td>\n",
              "      <td>0</td>\n",
              "      <td>0</td>\n",
              "      <td>0</td>\n",
              "      <td>0</td>\n",
              "      <td>0</td>\n",
              "      <td>0</td>\n",
              "      <td>0</td>\n",
              "    </tr>\n",
              "    <tr>\n",
              "      <th>1</th>\n",
              "      <td>1</td>\n",
              "      <td>1</td>\n",
              "      <td>my library</td>\n",
              "      <td>Local playlist more</td>\n",
              "      <td>local-library</td>\n",
              "      <td>0</td>\n",
              "      <td>1</td>\n",
              "      <td>52</td>\n",
              "      <td>0</td>\n",
              "      <td>0</td>\n",
              "      <td>...</td>\n",
              "      <td>0</td>\n",
              "      <td>0</td>\n",
              "      <td>0</td>\n",
              "      <td>0</td>\n",
              "      <td>0</td>\n",
              "      <td>0</td>\n",
              "      <td>0</td>\n",
              "      <td>0</td>\n",
              "      <td>0</td>\n",
              "      <td>0</td>\n",
              "    </tr>\n",
              "    <tr>\n",
              "      <th>2</th>\n",
              "      <td>2</td>\n",
              "      <td>2</td>\n",
              "      <td>my library</td>\n",
              "      <td>Local playlist more</td>\n",
              "      <td>local-playlist</td>\n",
              "      <td>1</td>\n",
              "      <td>2</td>\n",
              "      <td>3</td>\n",
              "      <td>0</td>\n",
              "      <td>0</td>\n",
              "      <td>...</td>\n",
              "      <td>0</td>\n",
              "      <td>0</td>\n",
              "      <td>0</td>\n",
              "      <td>0</td>\n",
              "      <td>0</td>\n",
              "      <td>0</td>\n",
              "      <td>0</td>\n",
              "      <td>0</td>\n",
              "      <td>0</td>\n",
              "      <td>0</td>\n",
              "    </tr>\n",
              "    <tr>\n",
              "      <th>3</th>\n",
              "      <td>3</td>\n",
              "      <td>3</td>\n",
              "      <td>my library</td>\n",
              "      <td>Local playlist more</td>\n",
              "      <td>local-playlist</td>\n",
              "      <td>1</td>\n",
              "      <td>3</td>\n",
              "      <td>31</td>\n",
              "      <td>0</td>\n",
              "      <td>0</td>\n",
              "      <td>...</td>\n",
              "      <td>0</td>\n",
              "      <td>0</td>\n",
              "      <td>0</td>\n",
              "      <td>0</td>\n",
              "      <td>0</td>\n",
              "      <td>0</td>\n",
              "      <td>0</td>\n",
              "      <td>0</td>\n",
              "      <td>0</td>\n",
              "      <td>0</td>\n",
              "    </tr>\n",
              "    <tr>\n",
              "      <th>4</th>\n",
              "      <td>4</td>\n",
              "      <td>4</td>\n",
              "      <td>my library</td>\n",
              "      <td>Local playlist more</td>\n",
              "      <td>local-library</td>\n",
              "      <td>1</td>\n",
              "      <td>4</td>\n",
              "      <td>31</td>\n",
              "      <td>0</td>\n",
              "      <td>0</td>\n",
              "      <td>...</td>\n",
              "      <td>0</td>\n",
              "      <td>0</td>\n",
              "      <td>0</td>\n",
              "      <td>0</td>\n",
              "      <td>0</td>\n",
              "      <td>0</td>\n",
              "      <td>0</td>\n",
              "      <td>0</td>\n",
              "      <td>0</td>\n",
              "      <td>0</td>\n",
              "    </tr>\n",
              "  </tbody>\n",
              "</table>\n",
              "<p>5 rows × 200 columns</p>\n",
              "</div>\n",
              "    <div class=\"colab-df-buttons\">\n",
              "\n",
              "  <div class=\"colab-df-container\">\n",
              "    <button class=\"colab-df-convert\" onclick=\"convertToInteractive('df-fdb418ca-2539-4a82-8ad7-aff015b743c6')\"\n",
              "            title=\"Convert this dataframe to an interactive table.\"\n",
              "            style=\"display:none;\">\n",
              "\n",
              "  <svg xmlns=\"http://www.w3.org/2000/svg\" height=\"24px\" viewBox=\"0 -960 960 960\">\n",
              "    <path d=\"M120-120v-720h720v720H120Zm60-500h600v-160H180v160Zm220 220h160v-160H400v160Zm0 220h160v-160H400v160ZM180-400h160v-160H180v160Zm440 0h160v-160H620v160ZM180-180h160v-160H180v160Zm440 0h160v-160H620v160Z\"/>\n",
              "  </svg>\n",
              "    </button>\n",
              "\n",
              "  <style>\n",
              "    .colab-df-container {\n",
              "      display:flex;\n",
              "      gap: 12px;\n",
              "    }\n",
              "\n",
              "    .colab-df-convert {\n",
              "      background-color: #E8F0FE;\n",
              "      border: none;\n",
              "      border-radius: 50%;\n",
              "      cursor: pointer;\n",
              "      display: none;\n",
              "      fill: #1967D2;\n",
              "      height: 32px;\n",
              "      padding: 0 0 0 0;\n",
              "      width: 32px;\n",
              "    }\n",
              "\n",
              "    .colab-df-convert:hover {\n",
              "      background-color: #E2EBFA;\n",
              "      box-shadow: 0px 1px 2px rgba(60, 64, 67, 0.3), 0px 1px 3px 1px rgba(60, 64, 67, 0.15);\n",
              "      fill: #174EA6;\n",
              "    }\n",
              "\n",
              "    .colab-df-buttons div {\n",
              "      margin-bottom: 4px;\n",
              "    }\n",
              "\n",
              "    [theme=dark] .colab-df-convert {\n",
              "      background-color: #3B4455;\n",
              "      fill: #D2E3FC;\n",
              "    }\n",
              "\n",
              "    [theme=dark] .colab-df-convert:hover {\n",
              "      background-color: #434B5C;\n",
              "      box-shadow: 0px 1px 3px 1px rgba(0, 0, 0, 0.15);\n",
              "      filter: drop-shadow(0px 1px 2px rgba(0, 0, 0, 0.3));\n",
              "      fill: #FFFFFF;\n",
              "    }\n",
              "  </style>\n",
              "\n",
              "    <script>\n",
              "      const buttonEl =\n",
              "        document.querySelector('#df-fdb418ca-2539-4a82-8ad7-aff015b743c6 button.colab-df-convert');\n",
              "      buttonEl.style.display =\n",
              "        google.colab.kernel.accessAllowed ? 'block' : 'none';\n",
              "\n",
              "      async function convertToInteractive(key) {\n",
              "        const element = document.querySelector('#df-fdb418ca-2539-4a82-8ad7-aff015b743c6');\n",
              "        const dataTable =\n",
              "          await google.colab.kernel.invokeFunction('convertToInteractive',\n",
              "                                                    [key], {});\n",
              "        if (!dataTable) return;\n",
              "\n",
              "        const docLinkHtml = 'Like what you see? Visit the ' +\n",
              "          '<a target=\"_blank\" href=https://colab.research.google.com/notebooks/data_table.ipynb>data table notebook</a>'\n",
              "          + ' to learn more about interactive tables.';\n",
              "        element.innerHTML = '';\n",
              "        dataTable['output_type'] = 'display_data';\n",
              "        await google.colab.output.renderOutput(dataTable, element);\n",
              "        const docLink = document.createElement('div');\n",
              "        docLink.innerHTML = docLinkHtml;\n",
              "        element.appendChild(docLink);\n",
              "      }\n",
              "    </script>\n",
              "  </div>\n",
              "\n",
              "\n",
              "<div id=\"df-01b0642b-73a9-4405-8f42-967677dd40b7\">\n",
              "  <button class=\"colab-df-quickchart\" onclick=\"quickchart('df-01b0642b-73a9-4405-8f42-967677dd40b7')\"\n",
              "            title=\"Suggest charts.\"\n",
              "            style=\"display:none;\">\n",
              "\n",
              "<svg xmlns=\"http://www.w3.org/2000/svg\" height=\"24px\"viewBox=\"0 0 24 24\"\n",
              "     width=\"24px\">\n",
              "    <g>\n",
              "        <path d=\"M19 3H5c-1.1 0-2 .9-2 2v14c0 1.1.9 2 2 2h14c1.1 0 2-.9 2-2V5c0-1.1-.9-2-2-2zM9 17H7v-7h2v7zm4 0h-2V7h2v10zm4 0h-2v-4h2v4z\"/>\n",
              "    </g>\n",
              "</svg>\n",
              "  </button>\n",
              "\n",
              "<style>\n",
              "  .colab-df-quickchart {\n",
              "      --bg-color: #E8F0FE;\n",
              "      --fill-color: #1967D2;\n",
              "      --hover-bg-color: #E2EBFA;\n",
              "      --hover-fill-color: #174EA6;\n",
              "      --disabled-fill-color: #AAA;\n",
              "      --disabled-bg-color: #DDD;\n",
              "  }\n",
              "\n",
              "  [theme=dark] .colab-df-quickchart {\n",
              "      --bg-color: #3B4455;\n",
              "      --fill-color: #D2E3FC;\n",
              "      --hover-bg-color: #434B5C;\n",
              "      --hover-fill-color: #FFFFFF;\n",
              "      --disabled-bg-color: #3B4455;\n",
              "      --disabled-fill-color: #666;\n",
              "  }\n",
              "\n",
              "  .colab-df-quickchart {\n",
              "    background-color: var(--bg-color);\n",
              "    border: none;\n",
              "    border-radius: 50%;\n",
              "    cursor: pointer;\n",
              "    display: none;\n",
              "    fill: var(--fill-color);\n",
              "    height: 32px;\n",
              "    padding: 0;\n",
              "    width: 32px;\n",
              "  }\n",
              "\n",
              "  .colab-df-quickchart:hover {\n",
              "    background-color: var(--hover-bg-color);\n",
              "    box-shadow: 0 1px 2px rgba(60, 64, 67, 0.3), 0 1px 3px 1px rgba(60, 64, 67, 0.15);\n",
              "    fill: var(--button-hover-fill-color);\n",
              "  }\n",
              "\n",
              "  .colab-df-quickchart-complete:disabled,\n",
              "  .colab-df-quickchart-complete:disabled:hover {\n",
              "    background-color: var(--disabled-bg-color);\n",
              "    fill: var(--disabled-fill-color);\n",
              "    box-shadow: none;\n",
              "  }\n",
              "\n",
              "  .colab-df-spinner {\n",
              "    border: 2px solid var(--fill-color);\n",
              "    border-color: transparent;\n",
              "    border-bottom-color: var(--fill-color);\n",
              "    animation:\n",
              "      spin 1s steps(1) infinite;\n",
              "  }\n",
              "\n",
              "  @keyframes spin {\n",
              "    0% {\n",
              "      border-color: transparent;\n",
              "      border-bottom-color: var(--fill-color);\n",
              "      border-left-color: var(--fill-color);\n",
              "    }\n",
              "    20% {\n",
              "      border-color: transparent;\n",
              "      border-left-color: var(--fill-color);\n",
              "      border-top-color: var(--fill-color);\n",
              "    }\n",
              "    30% {\n",
              "      border-color: transparent;\n",
              "      border-left-color: var(--fill-color);\n",
              "      border-top-color: var(--fill-color);\n",
              "      border-right-color: var(--fill-color);\n",
              "    }\n",
              "    40% {\n",
              "      border-color: transparent;\n",
              "      border-right-color: var(--fill-color);\n",
              "      border-top-color: var(--fill-color);\n",
              "    }\n",
              "    60% {\n",
              "      border-color: transparent;\n",
              "      border-right-color: var(--fill-color);\n",
              "    }\n",
              "    80% {\n",
              "      border-color: transparent;\n",
              "      border-right-color: var(--fill-color);\n",
              "      border-bottom-color: var(--fill-color);\n",
              "    }\n",
              "    90% {\n",
              "      border-color: transparent;\n",
              "      border-bottom-color: var(--fill-color);\n",
              "    }\n",
              "  }\n",
              "</style>\n",
              "\n",
              "  <script>\n",
              "    async function quickchart(key) {\n",
              "      const quickchartButtonEl =\n",
              "        document.querySelector('#' + key + ' button');\n",
              "      quickchartButtonEl.disabled = true;  // To prevent multiple clicks.\n",
              "      quickchartButtonEl.classList.add('colab-df-spinner');\n",
              "      try {\n",
              "        const charts = await google.colab.kernel.invokeFunction(\n",
              "            'suggestCharts', [key], {});\n",
              "      } catch (error) {\n",
              "        console.error('Error during call to suggestCharts:', error);\n",
              "      }\n",
              "      quickchartButtonEl.classList.remove('colab-df-spinner');\n",
              "      quickchartButtonEl.classList.add('colab-df-quickchart-complete');\n",
              "    }\n",
              "    (() => {\n",
              "      let quickchartButtonEl =\n",
              "        document.querySelector('#df-01b0642b-73a9-4405-8f42-967677dd40b7 button');\n",
              "      quickchartButtonEl.style.display =\n",
              "        google.colab.kernel.accessAllowed ? 'block' : 'none';\n",
              "    })();\n",
              "  </script>\n",
              "</div>\n",
              "    </div>\n",
              "  </div>\n"
            ]
          },
          "metadata": {},
          "execution_count": 19
        }
      ]
    },
    {
      "cell_type": "code",
      "source": [
        "class NeuralNet(nn.Module):\n",
        "    def __init__(self, num_users, num_songs, emb_size=100, n_hidden=100):\n",
        "        super(NeuralNet, self).__init__()\n",
        "        self.user_emb = nn.Embedding(num_users, emb_size)\n",
        "        self.song_emb = nn.Embedding(num_songs, emb_size)\n",
        "        self.layer1 = nn.Linear(emb_size*2 + n_hidden+n_hidden - 6, n_hidden)\n",
        "        self.layer2 = nn.Linear(n_hidden, 1)\n",
        "        self.drop1 = nn.Dropout(0.1)\n",
        "\n",
        "    def forward(self, u, v, w, y):\n",
        "        user = self.user_emb(u)\n",
        "        song = self.song_emb(v)\n",
        "        x = F.relu(torch.cat([user, song, w, y], dim=1))\n",
        "        x = self.drop1(x)\n",
        "        x = F.relu(self.layer1(x))\n",
        "        x = self.layer2(x)\n",
        "        return x"
      ],
      "metadata": {
        "id": "_ZPxYkDpm0Cp"
      },
      "execution_count": 20,
      "outputs": []
    },
    {
      "cell_type": "code",
      "source": [
        "def train_epocs_hybrid(model, epochs=10, lr=0.01, wd=0.0, unsqueeze=False):\n",
        "    optimizer = torch.optim.Adam(model.parameters(), lr=lr, weight_decay=wd)\n",
        "    model.train()\n",
        "    for i in range(epochs):\n",
        "        users = torch.LongTensor(data_train.msno.values) # .cuda()\n",
        "        songs = torch.LongTensor(data_train.song_id.values) #.cuda()\n",
        "        genres = torch.LongTensor(data_train.iloc[:,8:].values) #.cuda()\n",
        "        others = torch.LongTensor(data_train[['language', 'artist_name']].values)\n",
        "        targets = torch.FloatTensor(data_train.target.values) #.cuda()\n",
        "        if unsqueeze:\n",
        "            targets = targets.unsqueeze(1)\n",
        "        y_hat = model(users, songs, genres, others)\n",
        "        loss = F.binary_cross_entropy_with_logits(y_hat, targets)\n",
        "        train_loss.append((i, loss.item()))\n",
        "        if (i+1) % 10 == 0:\n",
        "          print(\"Iteration: %d ; error = %.4f\" % (i+1, loss.item()))\n",
        "        optimizer.zero_grad()\n",
        "        loss.backward()\n",
        "        optimizer.step()\n",
        "    test_loss_hybrid(model, unsqueeze)"
      ],
      "metadata": {
        "id": "G5csg5nynruu"
      },
      "execution_count": 21,
      "outputs": []
    },
    {
      "cell_type": "code",
      "source": [
        "def test_loss_hybrid(model, unsqueeze=False):\n",
        "    model.eval()\n",
        "    users = torch.LongTensor(data_train.msno.values) # .cuda()\n",
        "    songs = torch.LongTensor(data_train.song_id.values) #.cuda()\n",
        "    genres = torch.LongTensor(data_train.iloc[:,8:].values) #.cuda()\n",
        "    others = torch.LongTensor(data_train[['language', 'artist_name']].values)\n",
        "    targets = torch.FloatTensor(data_train.target.values) #.cuda()\n",
        "    if unsqueeze:\n",
        "        targets = targets.unsqueeze(1)\n",
        "    y_hat = model(users, songs, genres, others)\n",
        "    loss = F.mse_loss(y_hat, targets)\n",
        "    print(\"test loss %.3f \" % loss.item())"
      ],
      "metadata": {
        "id": "4MmnNnmRnsN-"
      },
      "execution_count": 22,
      "outputs": []
    },
    {
      "cell_type": "code",
      "source": [
        "def plot_loss(train_loss, embedding_size):\n",
        "  x = [x for x, y in train_loss]\n",
        "  y = [y for x, y in train_loss]\n",
        "  plt.figure(figsize=((4,4)))\n",
        "  plt.plot(x, y)\n",
        "  plt.xticks(x, x)\n",
        "  plt.title(\"k = {}\".format(str(embedding_size)))\n",
        "  plt.xlabel(\"epochs\")\n",
        "  plt.ylabel(\"RMSE\")\n",
        "  plt.grid(axis=\"y\")"
      ],
      "metadata": {
        "id": "KhNWekSO5Tti"
      },
      "execution_count": 23,
      "outputs": []
    },
    {
      "cell_type": "code",
      "source": [
        "model_hybrid_20 = NeuralNet(num_users, num_songs, emb_size=20)\n",
        "model_hybrid_20"
      ],
      "metadata": {
        "colab": {
          "base_uri": "https://localhost:8080/"
        },
        "id": "KUs9ueUlnvi4",
        "outputId": "f1b9c082-ed01-474f-d6dc-42aa053f480e"
      },
      "execution_count": null,
      "outputs": [
        {
          "output_type": "execute_result",
          "data": {
            "text/plain": [
              "NeuralNet(\n",
              "  (user_emb): Embedding(1180387, 20)\n",
              "  (song_emb): Embedding(1180387, 20)\n",
              "  (layer1): Linear(in_features=234, out_features=100, bias=True)\n",
              "  (layer2): Linear(in_features=100, out_features=1, bias=True)\n",
              "  (drop1): Dropout(p=0.1, inplace=False)\n",
              ")"
            ]
          },
          "metadata": {},
          "execution_count": 23
        }
      ]
    },
    {
      "cell_type": "code",
      "source": [
        "train_loss = []\n",
        "train_epocs_hybrid(model_hybrid_20, epochs=20, lr=0.01, wd=1e-6, unsqueeze=True)"
      ],
      "metadata": {
        "id": "QMAa0g3lnzbj",
        "colab": {
          "base_uri": "https://localhost:8080/"
        },
        "outputId": "4beb3314-e926-42f7-fa66-4b7be8a018b7"
      },
      "execution_count": null,
      "outputs": [
        {
          "output_type": "stream",
          "name": "stdout",
          "text": [
            "Iteration: 10 ; error = 11.3309\n",
            "Iteration: 20 ; error = 4.2122\n",
            "test loss 411.983 \n"
          ]
        }
      ]
    },
    {
      "cell_type": "code",
      "source": [
        "plot_loss(train_loss, 20)"
      ],
      "metadata": {
        "id": "q32HOOFsInzd",
        "colab": {
          "base_uri": "https://localhost:8080/",
          "height": 410
        },
        "outputId": "1f951b29-b105-41d8-d32f-5870b98e39f6"
      },
      "execution_count": null,
      "outputs": [
        {
          "output_type": "display_data",
          "data": {
            "text/plain": [
              "<Figure size 400x400 with 1 Axes>"
            ],
            "image/png": "[encoded data removed]"
          },
          "metadata": {}
        }
      ]
    },
    {
      "cell_type": "code",
      "source": [
        "model_hybrid_30 = NeuralNet(num_users, num_songs, emb_size=30)\n",
        "model_hybrid_30"
      ],
      "metadata": {
        "colab": {
          "base_uri": "https://localhost:8080/"
        },
        "id": "_q-hbPwEdfpD",
        "outputId": "cb23a1e4-b639-4793-fd9a-7f354290a347"
      },
      "execution_count": 30,
      "outputs": [
        {
          "output_type": "execute_result",
          "data": {
            "text/plain": [
              "NeuralNet(\n",
              "  (user_emb): Embedding(1180387, 30)\n",
              "  (song_emb): Embedding(1180387, 30)\n",
              "  (layer1): Linear(in_features=254, out_features=100, bias=True)\n",
              "  (layer2): Linear(in_features=100, out_features=1, bias=True)\n",
              "  (drop1): Dropout(p=0.1, inplace=False)\n",
              ")"
            ]
          },
          "metadata": {},
          "execution_count": 30
        }
      ]
    },
    {
      "cell_type": "code",
      "source": [
        "train_loss = []\n",
        "train_epocs_hybrid(model_hybrid_30, epochs=20, lr=0.01, wd=1e-6, unsqueeze=True)"
      ],
      "metadata": {
        "id": "hapn8cdj4WNq",
        "colab": {
          "base_uri": "https://localhost:8080/"
        },
        "outputId": "7fd33a13-1410-463b-e8d0-c3d7a306c8d4"
      },
      "execution_count": 31,
      "outputs": [
        {
          "output_type": "stream",
          "name": "stdout",
          "text": [
            "Iteration: 10 ; error = 4.6047\n",
            "Iteration: 20 ; error = 4.8922\n",
            "test loss 11.870 \n"
          ]
        }
      ]
    },
    {
      "cell_type": "code",
      "source": [
        "plot_loss(train_loss, 30)"
      ],
      "metadata": {
        "colab": {
          "base_uri": "https://localhost:8080/",
          "height": 410
        },
        "id": "EiJcOOcxdkXT",
        "outputId": "17d62069-1089-43fb-8cd2-0a259cb6ed12"
      },
      "execution_count": 32,
      "outputs": [
        {
          "output_type": "display_data",
          "data": {
            "text/plain": [
              "<Figure size 400x400 with 1 Axes>"
            ],
            "image/png": "[encoded data removed]"
          },
          "metadata": {}
        }
      ]
    },
    {
      "cell_type": "code",
      "source": [
        "model_hybrid_40 = NeuralNet(num_users, num_songs, emb_size=40)\n",
        "model_hybrid_40"
      ],
      "metadata": {
        "colab": {
          "base_uri": "https://localhost:8080/"
        },
        "id": "SYLXnfhbeQFF",
        "outputId": "782338ee-7ad1-4be5-97d1-855e75e62bff"
      },
      "execution_count": null,
      "outputs": [
        {
          "output_type": "execute_result",
          "data": {
            "text/plain": [
              "NeuralNet(\n",
              "  (user_emb): Embedding(1180387, 40)\n",
              "  (song_emb): Embedding(1180387, 40)\n",
              "  (layer1): Linear(in_features=274, out_features=100, bias=True)\n",
              "  (layer2): Linear(in_features=100, out_features=1, bias=True)\n",
              "  (drop1): Dropout(p=0.1, inplace=False)\n",
              ")"
            ]
          },
          "metadata": {},
          "execution_count": 49
        }
      ]
    },
    {
      "cell_type": "code",
      "source": [
        "train_loss = []\n",
        "train_epocs_hybrid(model_hybrid_40, epochs=20, lr=0.01, wd=1e-6, unsqueeze=True)"
      ],
      "metadata": {
        "colab": {
          "base_uri": "https://localhost:8080/"
        },
        "id": "x-udr2M2eUJr",
        "outputId": "b91077e6-6c4d-4d06-a885-f9b5148f1369"
      },
      "execution_count": null,
      "outputs": [
        {
          "output_type": "stream",
          "name": "stdout",
          "text": [
            "Iteration: 10 ; error = 5.9636\n",
            "Iteration: 20 ; error = 4.4150\n",
            "test loss 13.134 \n"
          ]
        }
      ]
    },
    {
      "cell_type": "code",
      "source": [
        "plot_loss(train_loss, 40)"
      ],
      "metadata": {
        "colab": {
          "base_uri": "https://localhost:8080/",
          "height": 410
        },
        "id": "NR5t_N-6eVmF",
        "outputId": "7924344d-b5a6-43d9-b37d-1af6425072ed"
      },
      "execution_count": null,
      "outputs": [
        {
          "output_type": "display_data",
          "data": {
            "text/plain": [
              "<Figure size 400x400 with 1 Axes>"
            ],
            "image/png": "[encoded data removed]"
          },
          "metadata": {}
        }
      ]
    },
    {
      "cell_type": "code",
      "source": [
        "model_hybrid_50 = NeuralNet(num_users, num_songs, emb_size=50)\n",
        "model_hybrid_50"
      ],
      "metadata": {
        "colab": {
          "base_uri": "https://localhost:8080/"
        },
        "id": "qOOK6ASseZTw",
        "outputId": "f75af891-e275-47d9-aa66-e356feee0180"
      },
      "execution_count": 24,
      "outputs": [
        {
          "output_type": "execute_result",
          "data": {
            "text/plain": [
              "NeuralNet(\n",
              "  (user_emb): Embedding(1180387, 50)\n",
              "  (song_emb): Embedding(1180387, 50)\n",
              "  (layer1): Linear(in_features=294, out_features=100, bias=True)\n",
              "  (layer2): Linear(in_features=100, out_features=1, bias=True)\n",
              "  (drop1): Dropout(p=0.1, inplace=False)\n",
              ")"
            ]
          },
          "metadata": {},
          "execution_count": 24
        }
      ]
    },
    {
      "cell_type": "code",
      "source": [
        "train_loss = []\n",
        "train_epocs_hybrid(model_hybrid_50, epochs=20, lr=0.01, wd=1e-6, unsqueeze=True)"
      ],
      "metadata": {
        "id": "J0j6-UbEecvs",
        "colab": {
          "base_uri": "https://localhost:8080/"
        },
        "outputId": "56bd44b9-29d1-4b84-9cd8-8ed189b21c70"
      },
      "execution_count": 25,
      "outputs": [
        {
          "output_type": "stream",
          "name": "stdout",
          "text": [
            "Iteration: 10 ; error = 5.2941\n",
            "Iteration: 20 ; error = 0.9882\n",
            "test loss 4.518 \n"
          ]
        }
      ]
    },
    {
      "cell_type": "code",
      "source": [
        "plot_loss(train_loss, 50)"
      ],
      "metadata": {
        "id": "KsEXhFEledYx",
        "colab": {
          "base_uri": "https://localhost:8080/",
          "height": 410
        },
        "outputId": "1ecec224-8360-462a-c838-16b752201d47"
      },
      "execution_count": 26,
      "outputs": [
        {
          "output_type": "display_data",
          "data": {
            "text/plain": [
              "<Figure size 400x400 with 1 Axes>"
            ],
            "image/png": "[encoded data removed]"
          },
          "metadata": {}
        }
      ]
    },
    {
      "cell_type": "code",
      "source": [
        "npRecommend_10 = data_train[data_train.msno == 5].to_numpy()\n",
        "user = torch.LongTensor(npRecommend_10[:,0].astype(np.int32))\n",
        "song = torch.LongTensor(npRecommend_10[:,1].astype(np.int32))\n",
        "genre = torch.LongTensor(npRecommend_10[:,8:].astype(np.int8))\n",
        "others = torch.LongTensor(npRecommend_10[:,6:8].astype(np.int32))\n",
        "npRecommend_val = model_hybrid_50(user, song, genre, others).detach().numpy().reshape(-1)"
      ],
      "metadata": {
        "id": "qCb_VJ-heq5o"
      },
      "execution_count": 27,
      "outputs": []
    },
    {
      "cell_type": "code",
      "source": [
        "indecies =  np.argsort(npRecommend_val)[-10:][::-1]\n",
        "indecies"
      ],
      "metadata": {
        "colab": {
          "base_uri": "https://localhost:8080/"
        },
        "id": "Wk6LEsZyesZu",
        "outputId": "9d99f875-97ef-435f-bdbd-fbb424991d2b"
      },
      "execution_count": 28,
      "outputs": [
        {
          "output_type": "execute_result",
          "data": {
            "text/plain": [
              "array([103,  83,  13, 100,  10,  34,  15,  82,  74, 102])"
            ]
          },
          "metadata": {},
          "execution_count": 28
        }
      ]
    },
    {
      "cell_type": "code",
      "source": [
        "recommded_itemid_10_hybrid = npRecommend_10[indecies,1]  # taking top 10\n",
        "print(recommded_itemid_10_hybrid)"
      ],
      "metadata": {
        "colab": {
          "base_uri": "https://localhost:8080/"
        },
        "id": "ZI6vFcxhetvS",
        "outputId": "0a1ee64c-c169-496b-8876-36a6b51259e4"
      },
      "execution_count": 29,
      "outputs": [
        {
          "output_type": "stream",
          "name": "stdout",
          "text": [
            "[143071 85477 31392 16452 21536 78982 41316 73657 98551 16728]\n"
          ]
        }
      ]
    },
    {
      "cell_type": "code",
      "source": [
        "recommendedSongs_10_hybrid = []\n",
        "for i in recommded_itemid_10_hybrid:\n",
        "  recommendedSongs_10_hybrid.append(levels_songs[i])\n",
        "print(recommendedSongs_10_hybrid)"
      ],
      "metadata": {
        "colab": {
          "base_uri": "https://localhost:8080/"
        },
        "id": "EtwG9Eg-evd7",
        "outputId": "f63745a0-66f1-4c07-c0d0-f8812bba4bd5"
      },
      "execution_count": 30,
      "outputs": [
        {
          "output_type": "stream",
          "name": "stdout",
          "text": [
            "['YScLusW65bj95jXvyuPPR16C8huqzG78VKy7g3tsxk8=', 'GE3Sy0SIi9OmSJDwGDL5c0u0XXV2RFgJsZfSE8cYCU8=', 'tx/4ACs5K0ssNL/NK6GrICt9qar2fMuP0oHLDVy2wco=', '13VI6HouGfWp+QO7NLKusIrEa4CCkC3t21b66kQzlmI=', 'gNsi/09LjF91XPf6PUhfm2S8xBEsWZHEGxAoUWvmfKk=', 'wprJmpS4wqHVANsE3eF6t//AikybYSwtSdUx0wRFknQ=', '6OwHphUVAuQZOPHmqsRX01PrU2fRpvmQwOx+GtZP2/0=', 'LLx7RgChwHKdnxj5F4cNBCzj0Klrt6ci01D0r4vKcCg=', 'hHHUzZIpBq2ShUZBlGonwybkC75bBtOjAvl33bkM/tI=', '82uQXlt1ZG803y9tjlKVTaFUsh6EOmBf4HIKRJG3P1M=']\n"
          ]
        }
      ]
    },
    {
      "cell_type": "code",
      "source": [
        "songs = pd.read_csv(\"gdrive/MyDrive/song_extra_info.csv\")"
      ],
      "metadata": {
        "id": "IoYS2fgh4IXr"
      },
      "execution_count": 38,
      "outputs": []
    },
    {
      "cell_type": "code",
      "source": [
        "recommended_songs = []\n",
        "for i in recommendedSongs_10_hybrid:\n",
        "  song = songs[songs['song_id'] == i]\n",
        "  recommended_songs.append(song.iloc[0]['name'])"
      ],
      "metadata": {
        "id": "PJpLWGXw_Eac"
      },
      "execution_count": 59,
      "outputs": []
    },
    {
      "cell_type": "code",
      "source": [
        "recommended_songs_df = pd.DataFrame(recommended_songs, columns=['Recommended_Songs'])\n",
        "recommended_songs_df"
      ],
      "metadata": {
        "colab": {
          "base_uri": "https://localhost:8080/",
          "height": 363
        },
        "id": "XRM-B35B-hFD",
        "outputId": "93787788-4892-4d84-9cbc-0e88eed56580"
      },
      "execution_count": 61,
      "outputs": [
        {
          "output_type": "execute_result",
          "data": {
            "text/plain": [
              "                                   Recommended_Songs\n",
              "0                          Fantasia in F minor| K608\n",
              "1  Sonata for Two Pianos in D Major| K. 448: III....\n",
              "2  Mozart: Sonata for Piano duet in C| K.521 - 1....\n",
              "3      Mozart - Sonata K 309 Music to Calm Your baby\n",
              "4                                    3. Molto presto\n",
              "5                       1. Adagio - Allegro di molto\n",
              "6                                         1. Allegro\n",
              "7                                   3. Allegro molto\n",
              "8                                      遊戲 (The Game)\n",
              "9                                                啟示路"
            ],
            "text/html": [
              "\n",
              "  <div id=\"df-a67a5882-919b-4183-a4f9-5eda620ac604\" class=\"colab-df-container\">\n",
              "    <div>\n",
              "<style scoped>\n",
              "    .dataframe tbody tr th:only-of-type {\n",
              "        vertical-align: middle;\n",
              "    }\n",
              "\n",
              "    .dataframe tbody tr th {\n",
              "        vertical-align: top;\n",
              "    }\n",
              "\n",
              "    .dataframe thead th {\n",
              "        text-align: right;\n",
              "    }\n",
              "</style>\n",
              "<table border=\"1\" class=\"dataframe\">\n",
              "  <thead>\n",
              "    <tr style=\"text-align: right;\">\n",
              "      <th></th>\n",
              "      <th>Recommended_Songs</th>\n",
              "    </tr>\n",
              "  </thead>\n",
              "  <tbody>\n",
              "    <tr>\n",
              "      <th>0</th>\n",
              "      <td>Fantasia in F minor| K608</td>\n",
              "    </tr>\n",
              "    <tr>\n",
              "      <th>1</th>\n",
              "      <td>Sonata for Two Pianos in D Major| K. 448: III....</td>\n",
              "    </tr>\n",
              "    <tr>\n",
              "      <th>2</th>\n",
              "      <td>Mozart: Sonata for Piano duet in C| K.521 - 1....</td>\n",
              "    </tr>\n",
              "    <tr>\n",
              "      <th>3</th>\n",
              "      <td>Mozart - Sonata K 309 Music to Calm Your baby</td>\n",
              "    </tr>\n",
              "    <tr>\n",
              "      <th>4</th>\n",
              "      <td>3. Molto presto</td>\n",
              "    </tr>\n",
              "    <tr>\n",
              "      <th>5</th>\n",
              "      <td>1. Adagio - Allegro di molto</td>\n",
              "    </tr>\n",
              "    <tr>\n",
              "      <th>6</th>\n",
              "      <td>1. Allegro</td>\n",
              "    </tr>\n",
              "    <tr>\n",
              "      <th>7</th>\n",
              "      <td>3. Allegro molto</td>\n",
              "    </tr>\n",
              "    <tr>\n",
              "      <th>8</th>\n",
              "      <td>遊戲 (The Game)</td>\n",
              "    </tr>\n",
              "    <tr>\n",
              "      <th>9</th>\n",
              "      <td>啟示路</td>\n",
              "    </tr>\n",
              "  </tbody>\n",
              "</table>\n",
              "</div>\n",
              "    <div class=\"colab-df-buttons\">\n",
              "\n",
              "  <div class=\"colab-df-container\">\n",
              "    <button class=\"colab-df-convert\" onclick=\"convertToInteractive('df-a67a5882-919b-4183-a4f9-5eda620ac604')\"\n",
              "            title=\"Convert this dataframe to an interactive table.\"\n",
              "            style=\"display:none;\">\n",
              "\n",
              "  <svg xmlns=\"http://www.w3.org/2000/svg\" height=\"24px\" viewBox=\"0 -960 960 960\">\n",
              "    <path d=\"M120-120v-720h720v720H120Zm60-500h600v-160H180v160Zm220 220h160v-160H400v160Zm0 220h160v-160H400v160ZM180-400h160v-160H180v160Zm440 0h160v-160H620v160ZM180-180h160v-160H180v160Zm440 0h160v-160H620v160Z\"/>\n",
              "  </svg>\n",
              "    </button>\n",
              "\n",
              "  <style>\n",
              "    .colab-df-container {\n",
              "      display:flex;\n",
              "      gap: 12px;\n",
              "    }\n",
              "\n",
              "    .colab-df-convert {\n",
              "      background-color: #E8F0FE;\n",
              "      border: none;\n",
              "      border-radius: 50%;\n",
              "      cursor: pointer;\n",
              "      display: none;\n",
              "      fill: #1967D2;\n",
              "      height: 32px;\n",
              "      padding: 0 0 0 0;\n",
              "      width: 32px;\n",
              "    }\n",
              "\n",
              "    .colab-df-convert:hover {\n",
              "      background-color: #E2EBFA;\n",
              "      box-shadow: 0px 1px 2px rgba(60, 64, 67, 0.3), 0px 1px 3px 1px rgba(60, 64, 67, 0.15);\n",
              "      fill: #174EA6;\n",
              "    }\n",
              "\n",
              "    .colab-df-buttons div {\n",
              "      margin-bottom: 4px;\n",
              "    }\n",
              "\n",
              "    [theme=dark] .colab-df-convert {\n",
              "      background-color: #3B4455;\n",
              "      fill: #D2E3FC;\n",
              "    }\n",
              "\n",
              "    [theme=dark] .colab-df-convert:hover {\n",
              "      background-color: #434B5C;\n",
              "      box-shadow: 0px 1px 3px 1px rgba(0, 0, 0, 0.15);\n",
              "      filter: drop-shadow(0px 1px 2px rgba(0, 0, 0, 0.3));\n",
              "      fill: #FFFFFF;\n",
              "    }\n",
              "  </style>\n",
              "\n",
              "    <script>\n",
              "      const buttonEl =\n",
              "        document.querySelector('#df-a67a5882-919b-4183-a4f9-5eda620ac604 button.colab-df-convert');\n",
              "      buttonEl.style.display =\n",
              "        google.colab.kernel.accessAllowed ? 'block' : 'none';\n",
              "\n",
              "      async function convertToInteractive(key) {\n",
              "        const element = document.querySelector('#df-a67a5882-919b-4183-a4f9-5eda620ac604');\n",
              "        const dataTable =\n",
              "          await google.colab.kernel.invokeFunction('convertToInteractive',\n",
              "                                                    [key], {});\n",
              "        if (!dataTable) return;\n",
              "\n",
              "        const docLinkHtml = 'Like what you see? Visit the ' +\n",
              "          '<a target=\"_blank\" href=https://colab.research.google.com/notebooks/data_table.ipynb>data table notebook</a>'\n",
              "          + ' to learn more about interactive tables.';\n",
              "        element.innerHTML = '';\n",
              "        dataTable['output_type'] = 'display_data';\n",
              "        await google.colab.output.renderOutput(dataTable, element);\n",
              "        const docLink = document.createElement('div');\n",
              "        docLink.innerHTML = docLinkHtml;\n",
              "        element.appendChild(docLink);\n",
              "      }\n",
              "    </script>\n",
              "  </div>\n",
              "\n",
              "\n",
              "<div id=\"df-c870b205-f786-45ad-a401-83119b90e5c6\">\n",
              "  <button class=\"colab-df-quickchart\" onclick=\"quickchart('df-c870b205-f786-45ad-a401-83119b90e5c6')\"\n",
              "            title=\"Suggest charts.\"\n",
              "            style=\"display:none;\">\n",
              "\n",
              "<svg xmlns=\"http://www.w3.org/2000/svg\" height=\"24px\"viewBox=\"0 0 24 24\"\n",
              "     width=\"24px\">\n",
              "    <g>\n",
              "        <path d=\"M19 3H5c-1.1 0-2 .9-2 2v14c0 1.1.9 2 2 2h14c1.1 0 2-.9 2-2V5c0-1.1-.9-2-2-2zM9 17H7v-7h2v7zm4 0h-2V7h2v10zm4 0h-2v-4h2v4z\"/>\n",
              "    </g>\n",
              "</svg>\n",
              "  </button>\n",
              "\n",
              "<style>\n",
              "  .colab-df-quickchart {\n",
              "      --bg-color: #E8F0FE;\n",
              "      --fill-color: #1967D2;\n",
              "      --hover-bg-color: #E2EBFA;\n",
              "      --hover-fill-color: #174EA6;\n",
              "      --disabled-fill-color: #AAA;\n",
              "      --disabled-bg-color: #DDD;\n",
              "  }\n",
              "\n",
              "  [theme=dark] .colab-df-quickchart {\n",
              "      --bg-color: #3B4455;\n",
              "      --fill-color: #D2E3FC;\n",
              "      --hover-bg-color: #434B5C;\n",
              "      --hover-fill-color: #FFFFFF;\n",
              "      --disabled-bg-color: #3B4455;\n",
              "      --disabled-fill-color: #666;\n",
              "  }\n",
              "\n",
              "  .colab-df-quickchart {\n",
              "    background-color: var(--bg-color);\n",
              "    border: none;\n",
              "    border-radius: 50%;\n",
              "    cursor: pointer;\n",
              "    display: none;\n",
              "    fill: var(--fill-color);\n",
              "    height: 32px;\n",
              "    padding: 0;\n",
              "    width: 32px;\n",
              "  }\n",
              "\n",
              "  .colab-df-quickchart:hover {\n",
              "    background-color: var(--hover-bg-color);\n",
              "    box-shadow: 0 1px 2px rgba(60, 64, 67, 0.3), 0 1px 3px 1px rgba(60, 64, 67, 0.15);\n",
              "    fill: var(--button-hover-fill-color);\n",
              "  }\n",
              "\n",
              "  .colab-df-quickchart-complete:disabled,\n",
              "  .colab-df-quickchart-complete:disabled:hover {\n",
              "    background-color: var(--disabled-bg-color);\n",
              "    fill: var(--disabled-fill-color);\n",
              "    box-shadow: none;\n",
              "  }\n",
              "\n",
              "  .colab-df-spinner {\n",
              "    border: 2px solid var(--fill-color);\n",
              "    border-color: transparent;\n",
              "    border-bottom-color: var(--fill-color);\n",
              "    animation:\n",
              "      spin 1s steps(1) infinite;\n",
              "  }\n",
              "\n",
              "  @keyframes spin {\n",
              "    0% {\n",
              "      border-color: transparent;\n",
              "      border-bottom-color: var(--fill-color);\n",
              "      border-left-color: var(--fill-color);\n",
              "    }\n",
              "    20% {\n",
              "      border-color: transparent;\n",
              "      border-left-color: var(--fill-color);\n",
              "      border-top-color: var(--fill-color);\n",
              "    }\n",
              "    30% {\n",
              "      border-color: transparent;\n",
              "      border-left-color: var(--fill-color);\n",
              "      border-top-color: var(--fill-color);\n",
              "      border-right-color: var(--fill-color);\n",
              "    }\n",
              "    40% {\n",
              "      border-color: transparent;\n",
              "      border-right-color: var(--fill-color);\n",
              "      border-top-color: var(--fill-color);\n",
              "    }\n",
              "    60% {\n",
              "      border-color: transparent;\n",
              "      border-right-color: var(--fill-color);\n",
              "    }\n",
              "    80% {\n",
              "      border-color: transparent;\n",
              "      border-right-color: var(--fill-color);\n",
              "      border-bottom-color: var(--fill-color);\n",
              "    }\n",
              "    90% {\n",
              "      border-color: transparent;\n",
              "      border-bottom-color: var(--fill-color);\n",
              "    }\n",
              "  }\n",
              "</style>\n",
              "\n",
              "  <script>\n",
              "    async function quickchart(key) {\n",
              "      const quickchartButtonEl =\n",
              "        document.querySelector('#' + key + ' button');\n",
              "      quickchartButtonEl.disabled = true;  // To prevent multiple clicks.\n",
              "      quickchartButtonEl.classList.add('colab-df-spinner');\n",
              "      try {\n",
              "        const charts = await google.colab.kernel.invokeFunction(\n",
              "            'suggestCharts', [key], {});\n",
              "      } catch (error) {\n",
              "        console.error('Error during call to suggestCharts:', error);\n",
              "      }\n",
              "      quickchartButtonEl.classList.remove('colab-df-spinner');\n",
              "      quickchartButtonEl.classList.add('colab-df-quickchart-complete');\n",
              "    }\n",
              "    (() => {\n",
              "      let quickchartButtonEl =\n",
              "        document.querySelector('#df-c870b205-f786-45ad-a401-83119b90e5c6 button');\n",
              "      quickchartButtonEl.style.display =\n",
              "        google.colab.kernel.accessAllowed ? 'block' : 'none';\n",
              "    })();\n",
              "  </script>\n",
              "</div>\n",
              "    </div>\n",
              "  </div>\n"
            ]
          },
          "metadata": {},
          "execution_count": 61
        }
      ]
    },
    {
      "cell_type": "code",
      "source": [],
      "metadata": {
        "id": "XyE-rVkD-pS1"
      },
      "execution_count": 51,
      "outputs": []
    }
  ]
}